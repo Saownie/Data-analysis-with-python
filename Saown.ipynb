{
 "cells": [
  {
   "cell_type": "markdown",
   "id": "133467f7",
   "metadata": {},
   "source": [
    "**Student's ID**:4033579\n",
    "\n",
    "**Course** : CS (year 1)\n",
    "\n",
    "**Name of project**: Data analysis of property prices of towns\n",
    "\n",
    "**Date of submission**: 6 January 2022"
   ]
  },
  {
   "cell_type": "markdown",
   "id": "ea5f0569",
   "metadata": {},
   "source": [
    " # Table of Contents\n",
    "  * Introduction\n",
    "  * Methodology\n",
    "  * Key Terms used in the analysis\n",
    "  * Libraries used in the analysis\n",
    "  * Importing the data\n",
    "  * Numerical Analysis for Farmingham\n",
    "  * property price distribution:(Framingham)\n",
    "  * Numerical analysis for Hamilton\n",
    "  * property price distribution:(Hamilton)\n",
    "  * Numerical Analysis for Lexington\n",
    "  * property price distribution:(Lexington)\n",
    "  * References used in the analysis.\n",
    "  * Bibliography\n",
    "  "
   ]
  },
  {
   "cell_type": "markdown",
   "id": "29023f75",
   "metadata": {},
   "source": [
    "* # Introduction :\n",
    "In this analysis the data We have is about for three different town's property details. We will try to get a deep insight on the property prices. We have  Framinham,  Hamilton and Lexington. We have datas on the age of property, property tax per year,property price and the distance to nearest town center. We will import the datasheets and use python libraries to analyse the data. We will try to represent the data with numerical analysis and visualization. We will try to do a rational and manipulate and process the following dataset. We will add graphs for a better and easier understanding of the whole data set. We will include a table of contents at the beginning to easily navigate through the whole research and we will do a definition of the terms that are used in the analysis to make it user friendly for the readers. At last, we will mention all the references we used in the analysis with Harvard parenthetical referencing method."
   ]
  },
  {
   "cell_type": "markdown",
   "id": "f665edbc",
   "metadata": {},
   "source": [
    "* # key terms mentioned in the analysis:\n",
    "  \n",
    "  \n",
    "  *   **Gaussian Curve**: A Gaussian curve is formally defined as a normalised frequency distribution that is symmetrical about the line of zero error and in which the frequency and magnitude of quantities are related by the expression (4.10)F(x)=1σ2πe[−(x−m)2/2σ2]where m is the mean value of the data set x and the other quantities are as defined previously. (Measurement and Instrumentation (Second Edition), 2016]\n",
    "  \n",
    "  \n",
    "  *  **Correlation Coefficient**: A categorical variable is one in which the available responses are a set of categories rather than numerical values that represent the amount or quantity of something on a continuous scale.(Boslaugh,2012)\n",
    "  \n",
    "  \n",
    "  * **Skewness**: Skewness is a metric for symmetry, or more specifically, the lack of it. If a distribution, or data collection, looks the same to the left and right of the Centre point, it is said to be symmetric.(Engineering statistics handbook, 2020)\n",
    "  \n",
    "  \n",
    "  * **Kurtosis**: Kurtosis is a metric that determines whether data is heavy-tailed or light-tailed in comparison to a normal distribution. That example, data sets with a high kurtosis tend to have a lot of outliers or heavy tails. Light tails, or a lack of outliers, are common in data sets with low kurtosis. The extreme situation would be a uniform distribution.(Engineering statistics handbook,2020)\n",
    "  \n",
    "  \n",
    " * **Empiricial analysis of property distribution**: On the data there is relations between the property price and diffrenet parameters of the data table. It's based on the age of property , the distance to nearest town centre.Upon farther analysis we found these factors affects the prices of properties in the town.(Shi,et al.,2005)"
   ]
  },
  {
   "cell_type": "markdown",
   "id": "5b5ed5a7",
   "metadata": {},
   "source": [
    "* # Methodology :\n",
    "\n",
    "\n",
    "\n",
    "* **Quantitive research**: Quantitive research refers to the research on one or multiple sets of data using statistical and arithmetical data. This is a method to measure a data on basis of the parameters such as trends and relationships. It makes the measurements, and after the analysis is complete ,it reaches to a conclusion.(watson,2015)\n",
    "\n",
    "\n",
    "* **Conclusive Research**: Conclusive research is a method of research where researchers approaches the data with a proper design. This method is often used to scratch specific set or chunk of data from a big data set. Conclusive research is a primary data collection methods.(Neelankavil and J.P., 2015)\n",
    "\n",
    "* **Secondary data collection method**: After decades of technological advances, now we have huge amount of data available and we can access them from anywhere and anytime we want. This method means collecting data from a pre existing site like Government files, Census , Organizational surveys etc.(Johnston and M.P., 2017)"
   ]
  },
  {
   "cell_type": "markdown",
   "id": "c5dd308f",
   "metadata": {},
   "source": [
    "* #  Libraries used in the analysis:\n",
    "\n"
   ]
  },
  {
   "cell_type": "code",
   "execution_count": 3,
   "id": "707759f6",
   "metadata": {},
   "outputs": [],
   "source": [
    "import pandas as pd\n",
    "import numpy as np\n",
    "import matplotlib.pyplot as plt\n",
    "import statistics\n",
    "import seaborn as sns\n",
    "from scipy import stats\n",
    "from scipy.stats import norm\n",
    "from scipy.stats import skew\n",
    "from scipy.stats import kurtosis\n",
    "%matplotlib inline"
   ]
  },
  {
   "cell_type": "markdown",
   "id": "72a58cef",
   "metadata": {},
   "source": [
    "* # Importing the dataset"
   ]
  },
  {
   "cell_type": "code",
   "execution_count": 4,
   "id": "09396453",
   "metadata": {},
   "outputs": [],
   "source": [
    "data = pd.read_csv(\"4033579.csv\")"
   ]
  },
  {
   "cell_type": "code",
   "execution_count": 5,
   "id": "34ddcf7c",
   "metadata": {},
   "outputs": [
    {
     "data": {
      "text/html": [
       "<div>\n",
       "<style scoped>\n",
       "    .dataframe tbody tr th:only-of-type {\n",
       "        vertical-align: middle;\n",
       "    }\n",
       "\n",
       "    .dataframe tbody tr th {\n",
       "        vertical-align: top;\n",
       "    }\n",
       "\n",
       "    .dataframe thead th {\n",
       "        text-align: right;\n",
       "    }\n",
       "</style>\n",
       "<table border=\"1\" class=\"dataframe\">\n",
       "  <thead>\n",
       "    <tr style=\"text-align: right;\">\n",
       "      <th></th>\n",
       "      <th>TOWN/VILLAGE</th>\n",
       "      <th>number of rooms</th>\n",
       "      <th>age of property</th>\n",
       "      <th>distance to nearest town centre</th>\n",
       "      <th>property tax per year</th>\n",
       "      <th>number of pupils per teacher</th>\n",
       "      <th>property price</th>\n",
       "    </tr>\n",
       "  </thead>\n",
       "  <tbody>\n",
       "    <tr>\n",
       "      <th>0</th>\n",
       "      <td>Framingham</td>\n",
       "      <td>6</td>\n",
       "      <td>77</td>\n",
       "      <td>7.95</td>\n",
       "      <td>580.80</td>\n",
       "      <td>19</td>\n",
       "      <td>17600</td>\n",
       "    </tr>\n",
       "    <tr>\n",
       "      <th>1</th>\n",
       "      <td>Framingham</td>\n",
       "      <td>6</td>\n",
       "      <td>70</td>\n",
       "      <td>7.95</td>\n",
       "      <td>610.50</td>\n",
       "      <td>19</td>\n",
       "      <td>18500</td>\n",
       "    </tr>\n",
       "    <tr>\n",
       "      <th>2</th>\n",
       "      <td>Framingham</td>\n",
       "      <td>6</td>\n",
       "      <td>35</td>\n",
       "      <td>8.06</td>\n",
       "      <td>801.90</td>\n",
       "      <td>19</td>\n",
       "      <td>24300</td>\n",
       "    </tr>\n",
       "    <tr>\n",
       "      <th>3</th>\n",
       "      <td>Framingham</td>\n",
       "      <td>6</td>\n",
       "      <td>79</td>\n",
       "      <td>8.06</td>\n",
       "      <td>676.50</td>\n",
       "      <td>19</td>\n",
       "      <td>20500</td>\n",
       "    </tr>\n",
       "    <tr>\n",
       "      <th>4</th>\n",
       "      <td>Framingham</td>\n",
       "      <td>6</td>\n",
       "      <td>49</td>\n",
       "      <td>7.83</td>\n",
       "      <td>808.50</td>\n",
       "      <td>19</td>\n",
       "      <td>24500</td>\n",
       "    </tr>\n",
       "    <tr>\n",
       "      <th>5</th>\n",
       "      <td>Framingham</td>\n",
       "      <td>7</td>\n",
       "      <td>18</td>\n",
       "      <td>7.83</td>\n",
       "      <td>864.60</td>\n",
       "      <td>19</td>\n",
       "      <td>26200</td>\n",
       "    </tr>\n",
       "    <tr>\n",
       "      <th>6</th>\n",
       "      <td>Framingham</td>\n",
       "      <td>6</td>\n",
       "      <td>13</td>\n",
       "      <td>7.40</td>\n",
       "      <td>805.20</td>\n",
       "      <td>19</td>\n",
       "      <td>24400</td>\n",
       "    </tr>\n",
       "    <tr>\n",
       "      <th>7</th>\n",
       "      <td>Hamilton</td>\n",
       "      <td>6</td>\n",
       "      <td>36</td>\n",
       "      <td>9.19</td>\n",
       "      <td>773.11</td>\n",
       "      <td>17</td>\n",
       "      <td>24700</td>\n",
       "    </tr>\n",
       "    <tr>\n",
       "      <th>8</th>\n",
       "      <td>Hamilton</td>\n",
       "      <td>7</td>\n",
       "      <td>28</td>\n",
       "      <td>8.54</td>\n",
       "      <td>810.81</td>\n",
       "      <td>18</td>\n",
       "      <td>23100</td>\n",
       "    </tr>\n",
       "    <tr>\n",
       "      <th>9</th>\n",
       "      <td>Hamilton</td>\n",
       "      <td>7</td>\n",
       "      <td>56</td>\n",
       "      <td>5.73</td>\n",
       "      <td>884.30</td>\n",
       "      <td>18</td>\n",
       "      <td>23900</td>\n",
       "    </tr>\n",
       "    <tr>\n",
       "      <th>10</th>\n",
       "      <td>Hamilton</td>\n",
       "      <td>7</td>\n",
       "      <td>28</td>\n",
       "      <td>6.47</td>\n",
       "      <td>1154.40</td>\n",
       "      <td>18</td>\n",
       "      <td>31200</td>\n",
       "    </tr>\n",
       "    <tr>\n",
       "      <th>11</th>\n",
       "      <td>Hamilton</td>\n",
       "      <td>6</td>\n",
       "      <td>28</td>\n",
       "      <td>6.64</td>\n",
       "      <td>519.84</td>\n",
       "      <td>17</td>\n",
       "      <td>17100</td>\n",
       "    </tr>\n",
       "    <tr>\n",
       "      <th>12</th>\n",
       "      <td>Hamilton</td>\n",
       "      <td>6</td>\n",
       "      <td>23</td>\n",
       "      <td>6.64</td>\n",
       "      <td>589.76</td>\n",
       "      <td>17</td>\n",
       "      <td>19400</td>\n",
       "    </tr>\n",
       "    <tr>\n",
       "      <th>13</th>\n",
       "      <td>Hamilton</td>\n",
       "      <td>7</td>\n",
       "      <td>60</td>\n",
       "      <td>6.27</td>\n",
       "      <td>696.30</td>\n",
       "      <td>16</td>\n",
       "      <td>16500</td>\n",
       "    </tr>\n",
       "    <tr>\n",
       "      <th>14</th>\n",
       "      <td>Lexington</td>\n",
       "      <td>7</td>\n",
       "      <td>41</td>\n",
       "      <td>3.79</td>\n",
       "      <td>1273.60</td>\n",
       "      <td>15</td>\n",
       "      <td>32000</td>\n",
       "    </tr>\n",
       "    <tr>\n",
       "      <th>15</th>\n",
       "      <td>Lexington</td>\n",
       "      <td>7</td>\n",
       "      <td>29</td>\n",
       "      <td>4.57</td>\n",
       "      <td>1186.04</td>\n",
       "      <td>15</td>\n",
       "      <td>29800</td>\n",
       "    </tr>\n",
       "    <tr>\n",
       "      <th>16</th>\n",
       "      <td>Lexington</td>\n",
       "      <td>7</td>\n",
       "      <td>39</td>\n",
       "      <td>4.57</td>\n",
       "      <td>1389.02</td>\n",
       "      <td>15</td>\n",
       "      <td>34900</td>\n",
       "    </tr>\n",
       "    <tr>\n",
       "      <th>17</th>\n",
       "      <td>Lexington</td>\n",
       "      <td>7</td>\n",
       "      <td>22</td>\n",
       "      <td>6.48</td>\n",
       "      <td>1472.60</td>\n",
       "      <td>15</td>\n",
       "      <td>37000</td>\n",
       "    </tr>\n",
       "    <tr>\n",
       "      <th>18</th>\n",
       "      <td>Lexington</td>\n",
       "      <td>7</td>\n",
       "      <td>31</td>\n",
       "      <td>6.48</td>\n",
       "      <td>1213.90</td>\n",
       "      <td>15</td>\n",
       "      <td>30500</td>\n",
       "    </tr>\n",
       "    <tr>\n",
       "      <th>19</th>\n",
       "      <td>Lexington</td>\n",
       "      <td>7</td>\n",
       "      <td>26</td>\n",
       "      <td>6.48</td>\n",
       "      <td>1448.72</td>\n",
       "      <td>15</td>\n",
       "      <td>36400</td>\n",
       "    </tr>\n",
       "    <tr>\n",
       "      <th>20</th>\n",
       "      <td>Lexington</td>\n",
       "      <td>8</td>\n",
       "      <td>32</td>\n",
       "      <td>5.65</td>\n",
       "      <td>1275.00</td>\n",
       "      <td>14</td>\n",
       "      <td>50000</td>\n",
       "    </tr>\n",
       "  </tbody>\n",
       "</table>\n",
       "</div>"
      ],
      "text/plain": [
       "   TOWN/VILLAGE  number of rooms  age of property  \\\n",
       "0    Framingham                6               77   \n",
       "1    Framingham                6               70   \n",
       "2    Framingham                6               35   \n",
       "3    Framingham                6               79   \n",
       "4    Framingham                6               49   \n",
       "5    Framingham                7               18   \n",
       "6    Framingham                6               13   \n",
       "7      Hamilton                6               36   \n",
       "8      Hamilton                7               28   \n",
       "9      Hamilton                7               56   \n",
       "10     Hamilton                7               28   \n",
       "11     Hamilton                6               28   \n",
       "12     Hamilton                6               23   \n",
       "13     Hamilton                7               60   \n",
       "14    Lexington                7               41   \n",
       "15    Lexington                7               29   \n",
       "16    Lexington                7               39   \n",
       "17    Lexington                7               22   \n",
       "18    Lexington                7               31   \n",
       "19    Lexington                7               26   \n",
       "20    Lexington                8               32   \n",
       "\n",
       "    distance to nearest town centre  property tax per year  \\\n",
       "0                              7.95                 580.80   \n",
       "1                              7.95                 610.50   \n",
       "2                              8.06                 801.90   \n",
       "3                              8.06                 676.50   \n",
       "4                              7.83                 808.50   \n",
       "5                              7.83                 864.60   \n",
       "6                              7.40                 805.20   \n",
       "7                              9.19                 773.11   \n",
       "8                              8.54                 810.81   \n",
       "9                              5.73                 884.30   \n",
       "10                             6.47                1154.40   \n",
       "11                             6.64                 519.84   \n",
       "12                             6.64                 589.76   \n",
       "13                             6.27                 696.30   \n",
       "14                             3.79                1273.60   \n",
       "15                             4.57                1186.04   \n",
       "16                             4.57                1389.02   \n",
       "17                             6.48                1472.60   \n",
       "18                             6.48                1213.90   \n",
       "19                             6.48                1448.72   \n",
       "20                             5.65                1275.00   \n",
       "\n",
       "    number of pupils per teacher  property price  \n",
       "0                             19           17600  \n",
       "1                             19           18500  \n",
       "2                             19           24300  \n",
       "3                             19           20500  \n",
       "4                             19           24500  \n",
       "5                             19           26200  \n",
       "6                             19           24400  \n",
       "7                             17           24700  \n",
       "8                             18           23100  \n",
       "9                             18           23900  \n",
       "10                            18           31200  \n",
       "11                            17           17100  \n",
       "12                            17           19400  \n",
       "13                            16           16500  \n",
       "14                            15           32000  \n",
       "15                            15           29800  \n",
       "16                            15           34900  \n",
       "17                            15           37000  \n",
       "18                            15           30500  \n",
       "19                            15           36400  \n",
       "20                            14           50000  "
      ]
     },
     "execution_count": 5,
     "metadata": {},
     "output_type": "execute_result"
    }
   ],
   "source": [
    "data"
   ]
  },
  {
   "cell_type": "markdown",
   "id": "bcb8a10d",
   "metadata": {},
   "source": [
    "* # Numerical analysis for Framingham"
   ]
  },
  {
   "cell_type": "code",
   "execution_count": 135,
   "id": "2623969e",
   "metadata": {},
   "outputs": [
    {
     "data": {
      "text/html": [
       "<div>\n",
       "<style scoped>\n",
       "    .dataframe tbody tr th:only-of-type {\n",
       "        vertical-align: middle;\n",
       "    }\n",
       "\n",
       "    .dataframe tbody tr th {\n",
       "        vertical-align: top;\n",
       "    }\n",
       "\n",
       "    .dataframe thead th {\n",
       "        text-align: right;\n",
       "    }\n",
       "</style>\n",
       "<table border=\"1\" class=\"dataframe\">\n",
       "  <thead>\n",
       "    <tr style=\"text-align: right;\">\n",
       "      <th></th>\n",
       "      <th>TOWN/VILLAGE</th>\n",
       "      <th>number of rooms</th>\n",
       "      <th>age of property</th>\n",
       "      <th>distance to nearest town centre</th>\n",
       "      <th>property tax per year</th>\n",
       "      <th>number of pupils per teacher</th>\n",
       "      <th>property price</th>\n",
       "    </tr>\n",
       "  </thead>\n",
       "  <tbody>\n",
       "    <tr>\n",
       "      <th>0</th>\n",
       "      <td>Framingham</td>\n",
       "      <td>6</td>\n",
       "      <td>77</td>\n",
       "      <td>7.95</td>\n",
       "      <td>580.8</td>\n",
       "      <td>19</td>\n",
       "      <td>17600</td>\n",
       "    </tr>\n",
       "    <tr>\n",
       "      <th>1</th>\n",
       "      <td>Framingham</td>\n",
       "      <td>6</td>\n",
       "      <td>70</td>\n",
       "      <td>7.95</td>\n",
       "      <td>610.5</td>\n",
       "      <td>19</td>\n",
       "      <td>18500</td>\n",
       "    </tr>\n",
       "    <tr>\n",
       "      <th>2</th>\n",
       "      <td>Framingham</td>\n",
       "      <td>6</td>\n",
       "      <td>35</td>\n",
       "      <td>8.06</td>\n",
       "      <td>801.9</td>\n",
       "      <td>19</td>\n",
       "      <td>24300</td>\n",
       "    </tr>\n",
       "    <tr>\n",
       "      <th>3</th>\n",
       "      <td>Framingham</td>\n",
       "      <td>6</td>\n",
       "      <td>79</td>\n",
       "      <td>8.06</td>\n",
       "      <td>676.5</td>\n",
       "      <td>19</td>\n",
       "      <td>20500</td>\n",
       "    </tr>\n",
       "    <tr>\n",
       "      <th>4</th>\n",
       "      <td>Framingham</td>\n",
       "      <td>6</td>\n",
       "      <td>49</td>\n",
       "      <td>7.83</td>\n",
       "      <td>808.5</td>\n",
       "      <td>19</td>\n",
       "      <td>24500</td>\n",
       "    </tr>\n",
       "    <tr>\n",
       "      <th>5</th>\n",
       "      <td>Framingham</td>\n",
       "      <td>7</td>\n",
       "      <td>18</td>\n",
       "      <td>7.83</td>\n",
       "      <td>864.6</td>\n",
       "      <td>19</td>\n",
       "      <td>26200</td>\n",
       "    </tr>\n",
       "    <tr>\n",
       "      <th>6</th>\n",
       "      <td>Framingham</td>\n",
       "      <td>6</td>\n",
       "      <td>13</td>\n",
       "      <td>7.40</td>\n",
       "      <td>805.2</td>\n",
       "      <td>19</td>\n",
       "      <td>24400</td>\n",
       "    </tr>\n",
       "  </tbody>\n",
       "</table>\n",
       "</div>"
      ],
      "text/plain": [
       "  TOWN/VILLAGE  number of rooms  age of property  \\\n",
       "0   Framingham                6               77   \n",
       "1   Framingham                6               70   \n",
       "2   Framingham                6               35   \n",
       "3   Framingham                6               79   \n",
       "4   Framingham                6               49   \n",
       "5   Framingham                7               18   \n",
       "6   Framingham                6               13   \n",
       "\n",
       "   distance to nearest town centre  property tax per year  \\\n",
       "0                             7.95                  580.8   \n",
       "1                             7.95                  610.5   \n",
       "2                             8.06                  801.9   \n",
       "3                             8.06                  676.5   \n",
       "4                             7.83                  808.5   \n",
       "5                             7.83                  864.6   \n",
       "6                             7.40                  805.2   \n",
       "\n",
       "   number of pupils per teacher  property price  \n",
       "0                            19           17600  \n",
       "1                            19           18500  \n",
       "2                            19           24300  \n",
       "3                            19           20500  \n",
       "4                            19           24500  \n",
       "5                            19           26200  \n",
       "6                            19           24400  "
      ]
     },
     "execution_count": 135,
     "metadata": {},
     "output_type": "execute_result"
    }
   ],
   "source": [
    "data.head(7)"
   ]
  },
  {
   "cell_type": "code",
   "execution_count": 136,
   "id": "4878353c",
   "metadata": {},
   "outputs": [
    {
     "data": {
      "text/plain": [
       "count        7.000000\n",
       "mean     22285.714286\n",
       "std       3372.154885\n",
       "min      17600.000000\n",
       "25%      19500.000000\n",
       "50%      24300.000000\n",
       "75%      24450.000000\n",
       "max      26200.000000\n",
       "Name: property price, dtype: float64"
      ]
     },
     "execution_count": 136,
     "metadata": {},
     "output_type": "execute_result"
    }
   ],
   "source": [
    "data.head(7)['property price'].describe()"
   ]
  },
  {
   "cell_type": "markdown",
   "id": "48c4de30",
   "metadata": {},
   "source": [
    "The above command <font color=\"Green\">describe</font> don't include interquartile range,variance,outliers,range, so in the following cell we will perform it \n"
   ]
  },
  {
   "cell_type": "code",
   "execution_count": 137,
   "id": "5e93f52c",
   "metadata": {},
   "outputs": [
    {
     "name": "stdout",
     "output_type": "stream",
     "text": [
      "31875.0\n",
      "12075.0\n",
      "8600\n"
     ]
    },
    {
     "data": {
      "text/plain": [
       "9746938.775510203"
      ]
     },
     "execution_count": 137,
     "metadata": {},
     "output_type": "execute_result"
    }
   ],
   "source": [
    "interquartile_range =(24450-19500)\n",
    "#we know that ,range= max value - min value\n",
    "range =(26200-17600)\n",
    "# upper outlier = upper quartile+(1.5*Interquartile range)\n",
    "upper_outlier=24450+(1.5*interquartile_range)\n",
    "# lower outlier = lower quartile-(1.5*Interquartile range)\n",
    "lower_outlier=19500-(1.5*interquartile_range)\n",
    "#variance\n",
    "print(upper_outlier)\n",
    "print(lower_outlier)\n",
    "print(range)\n",
    "np.var(data.head(7)['property price'])\n"
   ]
  },
  {
   "cell_type": "code",
   "execution_count": 138,
   "id": "7886b43c",
   "metadata": {},
   "outputs": [
    {
     "data": {
      "text/plain": [
       "22285.714285714286"
      ]
     },
     "execution_count": 138,
     "metadata": {},
     "output_type": "execute_result"
    }
   ],
   "source": [
    "data.head(7)['property price'].mean()"
   ]
  },
  {
   "cell_type": "code",
   "execution_count": 139,
   "id": "579fca49",
   "metadata": {},
   "outputs": [
    {
     "data": {
      "text/plain": [
       "24300.0"
      ]
     },
     "execution_count": 139,
     "metadata": {},
     "output_type": "execute_result"
    }
   ],
   "source": [
    "data.head(7)['property price'].median()"
   ]
  },
  {
   "cell_type": "code",
   "execution_count": 140,
   "id": "51f04cba",
   "metadata": {},
   "outputs": [
    {
     "data": {
      "text/plain": [
       "<AxesSubplot:>"
      ]
     },
     "execution_count": 140,
     "metadata": {},
     "output_type": "execute_result"
    },
    {
     "data": {
      "image/png": "[encoded data removed]",
      "text/plain": [
       "<Figure size 1008x432 with 1 Axes>"
      ]
     },
     "metadata": {
      "needs_background": "light"
     },
     "output_type": "display_data"
    }
   ],
   "source": [
    "data.head(7)['property price'].plot(kind='box',vert=False,figsize=(14,6),color='Green')"
   ]
  },
  {
   "cell_type": "markdown",
   "id": "5afe7c9a",
   "metadata": {},
   "source": [
    "Above boxplot and the data shows there is no outliers in the property prices in Farmingham. There is no property, Which is  priced higher above 31875 and 12075.\n",
    "\n",
    "The range of 8600.00 shows the prices of properties in farmingham varies vastly and the standard deviation from the data also indicates large variation of data and the large variance (9746938.775510203) also confirms that.\n",
    "\n",
    "The table below shows the Correlation between the data and the Graph :\n"
   ]
  },
  {
   "cell_type": "code",
   "execution_count": 141,
   "id": "07ef1fef",
   "metadata": {},
   "outputs": [
    {
     "data": {
      "text/html": [
       "<div>\n",
       "<style scoped>\n",
       "    .dataframe tbody tr th:only-of-type {\n",
       "        vertical-align: middle;\n",
       "    }\n",
       "\n",
       "    .dataframe tbody tr th {\n",
       "        vertical-align: top;\n",
       "    }\n",
       "\n",
       "    .dataframe thead th {\n",
       "        text-align: right;\n",
       "    }\n",
       "</style>\n",
       "<table border=\"1\" class=\"dataframe\">\n",
       "  <thead>\n",
       "    <tr style=\"text-align: right;\">\n",
       "      <th></th>\n",
       "      <th>number of rooms</th>\n",
       "      <th>age of property</th>\n",
       "      <th>distance to nearest town centre</th>\n",
       "      <th>property tax per year</th>\n",
       "      <th>number of pupils per teacher</th>\n",
       "      <th>property price</th>\n",
       "    </tr>\n",
       "  </thead>\n",
       "  <tbody>\n",
       "    <tr>\n",
       "      <th>number of rooms</th>\n",
       "      <td>1.000000</td>\n",
       "      <td>-0.490346</td>\n",
       "      <td>-0.074938</td>\n",
       "      <td>0.511850</td>\n",
       "      <td>NaN</td>\n",
       "      <td>0.511850</td>\n",
       "    </tr>\n",
       "    <tr>\n",
       "      <th>age of property</th>\n",
       "      <td>-0.490346</td>\n",
       "      <td>1.000000</td>\n",
       "      <td>0.667759</td>\n",
       "      <td>-0.876675</td>\n",
       "      <td>NaN</td>\n",
       "      <td>-0.876675</td>\n",
       "    </tr>\n",
       "    <tr>\n",
       "      <th>distance to nearest town centre</th>\n",
       "      <td>-0.074938</td>\n",
       "      <td>0.667759</td>\n",
       "      <td>1.000000</td>\n",
       "      <td>-0.407895</td>\n",
       "      <td>NaN</td>\n",
       "      <td>-0.407895</td>\n",
       "    </tr>\n",
       "    <tr>\n",
       "      <th>property tax per year</th>\n",
       "      <td>0.511850</td>\n",
       "      <td>-0.876675</td>\n",
       "      <td>-0.407895</td>\n",
       "      <td>1.000000</td>\n",
       "      <td>NaN</td>\n",
       "      <td>1.000000</td>\n",
       "    </tr>\n",
       "    <tr>\n",
       "      <th>number of pupils per teacher</th>\n",
       "      <td>NaN</td>\n",
       "      <td>NaN</td>\n",
       "      <td>NaN</td>\n",
       "      <td>NaN</td>\n",
       "      <td>NaN</td>\n",
       "      <td>NaN</td>\n",
       "    </tr>\n",
       "    <tr>\n",
       "      <th>property price</th>\n",
       "      <td>0.511850</td>\n",
       "      <td>-0.876675</td>\n",
       "      <td>-0.407895</td>\n",
       "      <td>1.000000</td>\n",
       "      <td>NaN</td>\n",
       "      <td>1.000000</td>\n",
       "    </tr>\n",
       "  </tbody>\n",
       "</table>\n",
       "</div>"
      ],
      "text/plain": [
       "                                 number of rooms  age of property  \\\n",
       "number of rooms                         1.000000        -0.490346   \n",
       "age of property                        -0.490346         1.000000   \n",
       "distance to nearest town centre        -0.074938         0.667759   \n",
       "property tax per year                   0.511850        -0.876675   \n",
       "number of pupils per teacher                 NaN              NaN   \n",
       "property price                          0.511850        -0.876675   \n",
       "\n",
       "                                 distance to nearest town centre  \\\n",
       "number of rooms                                        -0.074938   \n",
       "age of property                                         0.667759   \n",
       "distance to nearest town centre                         1.000000   \n",
       "property tax per year                                  -0.407895   \n",
       "number of pupils per teacher                                 NaN   \n",
       "property price                                         -0.407895   \n",
       "\n",
       "                                 property tax per year  \\\n",
       "number of rooms                               0.511850   \n",
       "age of property                              -0.876675   \n",
       "distance to nearest town centre              -0.407895   \n",
       "property tax per year                         1.000000   \n",
       "number of pupils per teacher                       NaN   \n",
       "property price                                1.000000   \n",
       "\n",
       "                                 number of pupils per teacher  property price  \n",
       "number of rooms                                           NaN        0.511850  \n",
       "age of property                                           NaN       -0.876675  \n",
       "distance to nearest town centre                           NaN       -0.407895  \n",
       "property tax per year                                     NaN        1.000000  \n",
       "number of pupils per teacher                              NaN             NaN  \n",
       "property price                                            NaN        1.000000  "
      ]
     },
     "execution_count": 141,
     "metadata": {},
     "output_type": "execute_result"
    }
   ],
   "source": [
    "corr_Farmingham = data.head(7).corr()\n",
    "corr_Farmingham"
   ]
  },
  {
   "cell_type": "markdown",
   "id": "2521b2a0",
   "metadata": {},
   "source": [
    "In the next cells , we'll give an in-depth analysis of each parameter against the property price to show which one affects the Farmingham property prices"
   ]
  },
  {
   "cell_type": "code",
   "execution_count": 142,
   "id": "6214f452",
   "metadata": {},
   "outputs": [
    {
     "data": {
      "text/html": [
       "<div>\n",
       "<style scoped>\n",
       "    .dataframe tbody tr th:only-of-type {\n",
       "        vertical-align: middle;\n",
       "    }\n",
       "\n",
       "    .dataframe tbody tr th {\n",
       "        vertical-align: top;\n",
       "    }\n",
       "\n",
       "    .dataframe thead th {\n",
       "        text-align: right;\n",
       "    }\n",
       "</style>\n",
       "<table border=\"1\" class=\"dataframe\">\n",
       "  <thead>\n",
       "    <tr style=\"text-align: right;\">\n",
       "      <th></th>\n",
       "      <th>number of rooms</th>\n",
       "      <th>property price</th>\n",
       "    </tr>\n",
       "  </thead>\n",
       "  <tbody>\n",
       "    <tr>\n",
       "      <th>0</th>\n",
       "      <td>6</td>\n",
       "      <td>17600</td>\n",
       "    </tr>\n",
       "    <tr>\n",
       "      <th>1</th>\n",
       "      <td>6</td>\n",
       "      <td>18500</td>\n",
       "    </tr>\n",
       "    <tr>\n",
       "      <th>2</th>\n",
       "      <td>6</td>\n",
       "      <td>24300</td>\n",
       "    </tr>\n",
       "    <tr>\n",
       "      <th>3</th>\n",
       "      <td>6</td>\n",
       "      <td>20500</td>\n",
       "    </tr>\n",
       "    <tr>\n",
       "      <th>4</th>\n",
       "      <td>6</td>\n",
       "      <td>24500</td>\n",
       "    </tr>\n",
       "    <tr>\n",
       "      <th>5</th>\n",
       "      <td>7</td>\n",
       "      <td>26200</td>\n",
       "    </tr>\n",
       "    <tr>\n",
       "      <th>6</th>\n",
       "      <td>6</td>\n",
       "      <td>24400</td>\n",
       "    </tr>\n",
       "  </tbody>\n",
       "</table>\n",
       "</div>"
      ],
      "text/plain": [
       "   number of rooms  property price\n",
       "0                6           17600\n",
       "1                6           18500\n",
       "2                6           24300\n",
       "3                6           20500\n",
       "4                6           24500\n",
       "5                7           26200\n",
       "6                6           24400"
      ]
     },
     "execution_count": 142,
     "metadata": {},
     "output_type": "execute_result"
    }
   ],
   "source": [
    "data.head(7)[[\"number of rooms\",\"property price\"]]"
   ]
  },
  {
   "cell_type": "code",
   "execution_count": 29,
   "id": "80f2bb4e",
   "metadata": {},
   "outputs": [
    {
     "data": {
      "image/png": "[encoded data removed]",
      "text/plain": [
       "<Figure size 432x288 with 1 Axes>"
      ]
     },
     "metadata": {
      "needs_background": "light"
     },
     "output_type": "display_data"
    }
   ],
   "source": [
    "number_of_rooms= [6,6,6,6,6,7,6]\n",
    "property_price= [17600,18500,24300,20500,24500,26200,24400]\n",
    "number_of_rooms= {\"number_of_rooms\": [6,6,6,6,6,7,6],\n",
    "\"property_price\": [17600,18500,24300,20500,24500,26200,24400]}\n",
    "Drowning = pd.DataFrame(data=number_of_rooms)\n",
    "\n",
    "Drowning.plot(x=\"property_price\", y=\"number_of_rooms\", kind=\"scatter\")\n",
    "plt.show()\n"
   ]
  },
  {
   "cell_type": "markdown",
   "id": "e75a06fd",
   "metadata": {},
   "source": [
    "The graph above shows that there is no correlation between property price and number of rooms in Farmingham because of  the correlation coefficient is 0.511850(on the data chart above). This implies that number of rooms moderately or strongly affects the property prices in Firmingham."
   ]
  },
  {
   "cell_type": "code",
   "execution_count": 144,
   "id": "e6955f15",
   "metadata": {},
   "outputs": [
    {
     "data": {
      "text/html": [
       "<div>\n",
       "<style scoped>\n",
       "    .dataframe tbody tr th:only-of-type {\n",
       "        vertical-align: middle;\n",
       "    }\n",
       "\n",
       "    .dataframe tbody tr th {\n",
       "        vertical-align: top;\n",
       "    }\n",
       "\n",
       "    .dataframe thead th {\n",
       "        text-align: right;\n",
       "    }\n",
       "</style>\n",
       "<table border=\"1\" class=\"dataframe\">\n",
       "  <thead>\n",
       "    <tr style=\"text-align: right;\">\n",
       "      <th></th>\n",
       "      <th>age of property</th>\n",
       "      <th>property price</th>\n",
       "    </tr>\n",
       "  </thead>\n",
       "  <tbody>\n",
       "    <tr>\n",
       "      <th>0</th>\n",
       "      <td>77</td>\n",
       "      <td>17600</td>\n",
       "    </tr>\n",
       "    <tr>\n",
       "      <th>1</th>\n",
       "      <td>70</td>\n",
       "      <td>18500</td>\n",
       "    </tr>\n",
       "    <tr>\n",
       "      <th>2</th>\n",
       "      <td>35</td>\n",
       "      <td>24300</td>\n",
       "    </tr>\n",
       "    <tr>\n",
       "      <th>3</th>\n",
       "      <td>79</td>\n",
       "      <td>20500</td>\n",
       "    </tr>\n",
       "    <tr>\n",
       "      <th>4</th>\n",
       "      <td>49</td>\n",
       "      <td>24500</td>\n",
       "    </tr>\n",
       "    <tr>\n",
       "      <th>5</th>\n",
       "      <td>18</td>\n",
       "      <td>26200</td>\n",
       "    </tr>\n",
       "    <tr>\n",
       "      <th>6</th>\n",
       "      <td>13</td>\n",
       "      <td>24400</td>\n",
       "    </tr>\n",
       "  </tbody>\n",
       "</table>\n",
       "</div>"
      ],
      "text/plain": [
       "   age of property  property price\n",
       "0               77           17600\n",
       "1               70           18500\n",
       "2               35           24300\n",
       "3               79           20500\n",
       "4               49           24500\n",
       "5               18           26200\n",
       "6               13           24400"
      ]
     },
     "execution_count": 144,
     "metadata": {},
     "output_type": "execute_result"
    }
   ],
   "source": [
    "data.head(7)[[\"age of property\",\"property price\"]]\n"
   ]
  },
  {
   "cell_type": "code",
   "execution_count": 145,
   "id": "7185041a",
   "metadata": {},
   "outputs": [
    {
     "name": "stderr",
     "output_type": "stream",
     "text": [
      "/Users/sabbirahamedsaown/opt/anaconda3/lib/python3.9/site-packages/seaborn/_decorators.py:36: FutureWarning: Pass the following variables as keyword args: x, y. From version 0.12, the only valid positional argument will be `data`, and passing other arguments without an explicit keyword will result in an error or misinterpretation.\n",
      "  warnings.warn(\n"
     ]
    },
    {
     "data": {
      "text/plain": [
       "<AxesSubplot:xlabel='property price', ylabel='age of property'>"
      ]
     },
     "execution_count": 145,
     "metadata": {},
     "output_type": "execute_result"
    },
    {
     "data": {
      "image/png": "[encoded data removed]",
      "text/plain": [
       "<Figure size 432x288 with 1 Axes>"
      ]
     },
     "metadata": {
      "needs_background": "light"
     },
     "output_type": "display_data"
    }
   ],
   "source": [
    "sns.regplot(data.head(7)['property price'],data.head(7)['age of property'],color=\"Green\" )"
   ]
  },
  {
   "cell_type": "markdown",
   "id": "b2e71737",
   "metadata": {},
   "source": [
    "From the data chart and the grah shows that there is a negative moderate strong correlation between the price of property and the age of property in Farmingham.Basically, that means the age of property will affect the price. In the chart, a 77 year old property is only worth 17600 where a 13 year old property is worth much more on 24400."
   ]
  },
  {
   "cell_type": "code",
   "execution_count": 146,
   "id": "40c587f5",
   "metadata": {},
   "outputs": [
    {
     "data": {
      "text/html": [
       "<div>\n",
       "<style scoped>\n",
       "    .dataframe tbody tr th:only-of-type {\n",
       "        vertical-align: middle;\n",
       "    }\n",
       "\n",
       "    .dataframe tbody tr th {\n",
       "        vertical-align: top;\n",
       "    }\n",
       "\n",
       "    .dataframe thead th {\n",
       "        text-align: right;\n",
       "    }\n",
       "</style>\n",
       "<table border=\"1\" class=\"dataframe\">\n",
       "  <thead>\n",
       "    <tr style=\"text-align: right;\">\n",
       "      <th></th>\n",
       "      <th>distance to nearest town centre</th>\n",
       "      <th>property price</th>\n",
       "    </tr>\n",
       "  </thead>\n",
       "  <tbody>\n",
       "    <tr>\n",
       "      <th>0</th>\n",
       "      <td>7.95</td>\n",
       "      <td>17600</td>\n",
       "    </tr>\n",
       "    <tr>\n",
       "      <th>1</th>\n",
       "      <td>7.95</td>\n",
       "      <td>18500</td>\n",
       "    </tr>\n",
       "    <tr>\n",
       "      <th>2</th>\n",
       "      <td>8.06</td>\n",
       "      <td>24300</td>\n",
       "    </tr>\n",
       "    <tr>\n",
       "      <th>3</th>\n",
       "      <td>8.06</td>\n",
       "      <td>20500</td>\n",
       "    </tr>\n",
       "    <tr>\n",
       "      <th>4</th>\n",
       "      <td>7.83</td>\n",
       "      <td>24500</td>\n",
       "    </tr>\n",
       "    <tr>\n",
       "      <th>5</th>\n",
       "      <td>7.83</td>\n",
       "      <td>26200</td>\n",
       "    </tr>\n",
       "    <tr>\n",
       "      <th>6</th>\n",
       "      <td>7.40</td>\n",
       "      <td>24400</td>\n",
       "    </tr>\n",
       "  </tbody>\n",
       "</table>\n",
       "</div>"
      ],
      "text/plain": [
       "   distance to nearest town centre  property price\n",
       "0                             7.95           17600\n",
       "1                             7.95           18500\n",
       "2                             8.06           24300\n",
       "3                             8.06           20500\n",
       "4                             7.83           24500\n",
       "5                             7.83           26200\n",
       "6                             7.40           24400"
      ]
     },
     "execution_count": 146,
     "metadata": {},
     "output_type": "execute_result"
    }
   ],
   "source": [
    "data.head(7)[[\"distance to nearest town centre\",\"property price\"]]"
   ]
  },
  {
   "cell_type": "code",
   "execution_count": 147,
   "id": "df1ed101",
   "metadata": {},
   "outputs": [
    {
     "name": "stderr",
     "output_type": "stream",
     "text": [
      "/Users/sabbirahamedsaown/opt/anaconda3/lib/python3.9/site-packages/seaborn/_decorators.py:36: FutureWarning: Pass the following variables as keyword args: x, y. From version 0.12, the only valid positional argument will be `data`, and passing other arguments without an explicit keyword will result in an error or misinterpretation.\n",
      "  warnings.warn(\n"
     ]
    },
    {
     "data": {
      "text/plain": [
       "<AxesSubplot:xlabel='distance to nearest town centre', ylabel='property price'>"
      ]
     },
     "execution_count": 147,
     "metadata": {},
     "output_type": "execute_result"
    },
    {
     "data": {
      "image/png": "[encoded data removed]",
      "text/plain": [
       "<Figure size 432x288 with 1 Axes>"
      ]
     },
     "metadata": {
      "needs_background": "light"
     },
     "output_type": "display_data"
    }
   ],
   "source": [
    "sns.regplot(data.head(7)['distance to nearest town centre'],data.head(7)['property price'],color='Green')"
   ]
  },
  {
   "cell_type": "markdown",
   "id": "dc0887c0",
   "metadata": {},
   "source": [
    "The data chart above and the graph shows that there is a weak negative correlation between the property prices and the distance from nearest town centre. The correlation coefficient is low at -0.407895. So the distance to nearest town center has a little affect at the property prices."
   ]
  },
  {
   "cell_type": "code",
   "execution_count": 148,
   "id": "392b76c6",
   "metadata": {},
   "outputs": [
    {
     "data": {
      "text/html": [
       "<div>\n",
       "<style scoped>\n",
       "    .dataframe tbody tr th:only-of-type {\n",
       "        vertical-align: middle;\n",
       "    }\n",
       "\n",
       "    .dataframe tbody tr th {\n",
       "        vertical-align: top;\n",
       "    }\n",
       "\n",
       "    .dataframe thead th {\n",
       "        text-align: right;\n",
       "    }\n",
       "</style>\n",
       "<table border=\"1\" class=\"dataframe\">\n",
       "  <thead>\n",
       "    <tr style=\"text-align: right;\">\n",
       "      <th></th>\n",
       "      <th>property tax per year</th>\n",
       "      <th>property price</th>\n",
       "    </tr>\n",
       "  </thead>\n",
       "  <tbody>\n",
       "    <tr>\n",
       "      <th>0</th>\n",
       "      <td>580.8</td>\n",
       "      <td>17600</td>\n",
       "    </tr>\n",
       "    <tr>\n",
       "      <th>1</th>\n",
       "      <td>610.5</td>\n",
       "      <td>18500</td>\n",
       "    </tr>\n",
       "    <tr>\n",
       "      <th>2</th>\n",
       "      <td>801.9</td>\n",
       "      <td>24300</td>\n",
       "    </tr>\n",
       "    <tr>\n",
       "      <th>3</th>\n",
       "      <td>676.5</td>\n",
       "      <td>20500</td>\n",
       "    </tr>\n",
       "    <tr>\n",
       "      <th>4</th>\n",
       "      <td>808.5</td>\n",
       "      <td>24500</td>\n",
       "    </tr>\n",
       "    <tr>\n",
       "      <th>5</th>\n",
       "      <td>864.6</td>\n",
       "      <td>26200</td>\n",
       "    </tr>\n",
       "    <tr>\n",
       "      <th>6</th>\n",
       "      <td>805.2</td>\n",
       "      <td>24400</td>\n",
       "    </tr>\n",
       "  </tbody>\n",
       "</table>\n",
       "</div>"
      ],
      "text/plain": [
       "   property tax per year  property price\n",
       "0                  580.8           17600\n",
       "1                  610.5           18500\n",
       "2                  801.9           24300\n",
       "3                  676.5           20500\n",
       "4                  808.5           24500\n",
       "5                  864.6           26200\n",
       "6                  805.2           24400"
      ]
     },
     "execution_count": 148,
     "metadata": {},
     "output_type": "execute_result"
    }
   ],
   "source": [
    "data.head(7)[[\"property tax per year\",\"property price\"]]"
   ]
  },
  {
   "cell_type": "code",
   "execution_count": 18,
   "id": "e12511ad",
   "metadata": {},
   "outputs": [
    {
     "data": {
      "text/plain": [
       "<AxesSubplot:>"
      ]
     },
     "execution_count": 18,
     "metadata": {},
     "output_type": "execute_result"
    },
    {
     "data": {
      "image/png": "[encoded data removed]",
      "text/plain": [
       "<Figure size 432x288 with 2 Axes>"
      ]
     },
     "metadata": {
      "needs_background": "light"
     },
     "output_type": "display_data"
    }
   ],
   "source": [
    "data_correlation= data.head(7).corr()\n",
    "sns.heatmap(data_correlation)"
   ]
  },
  {
   "cell_type": "markdown",
   "id": "859cb3ba",
   "metadata": {},
   "source": [
    " Above heatmap shows that there are perfect correlation between property tax per year and property price.\n",
    "  the colour representing the box in the heatmap is 1.00(as seen on the correlation coeffiecient scale in the right.)"
   ]
  },
  {
   "cell_type": "code",
   "execution_count": 149,
   "id": "3872d4cc",
   "metadata": {},
   "outputs": [
    {
     "name": "stderr",
     "output_type": "stream",
     "text": [
      "/Users/sabbirahamedsaown/opt/anaconda3/lib/python3.9/site-packages/seaborn/_decorators.py:36: FutureWarning: Pass the following variables as keyword args: x, y. From version 0.12, the only valid positional argument will be `data`, and passing other arguments without an explicit keyword will result in an error or misinterpretation.\n",
      "  warnings.warn(\n"
     ]
    },
    {
     "data": {
      "text/plain": [
       "<AxesSubplot:xlabel='property price', ylabel='property tax per year'>"
      ]
     },
     "execution_count": 149,
     "metadata": {},
     "output_type": "execute_result"
    },
    {
     "data": {
      "image/png": "[encoded data removed]",
      "text/plain": [
       "<Figure size 432x288 with 1 Axes>"
      ]
     },
     "metadata": {
      "needs_background": "light"
     },
     "output_type": "display_data"
    }
   ],
   "source": [
    "sns.regplot(data.head(7)['property price'],data.head(7)['property tax per year'],color='Green')"
   ]
  },
  {
   "cell_type": "markdown",
   "id": "8dd84ad9",
   "metadata": {},
   "source": [
    "From the data chart and the graph both shows perfect correlation between property taxes and propert prices. Every point  is on the regression line and the correlation coefficient is 1.000000. This means higher the price of property is the higher you have to pay the taxes."
   ]
  },
  {
   "cell_type": "code",
   "execution_count": 150,
   "id": "e6286961",
   "metadata": {},
   "outputs": [
    {
     "data": {
      "text/html": [
       "<div>\n",
       "<style scoped>\n",
       "    .dataframe tbody tr th:only-of-type {\n",
       "        vertical-align: middle;\n",
       "    }\n",
       "\n",
       "    .dataframe tbody tr th {\n",
       "        vertical-align: top;\n",
       "    }\n",
       "\n",
       "    .dataframe thead th {\n",
       "        text-align: right;\n",
       "    }\n",
       "</style>\n",
       "<table border=\"1\" class=\"dataframe\">\n",
       "  <thead>\n",
       "    <tr style=\"text-align: right;\">\n",
       "      <th></th>\n",
       "      <th>number of pupils per teacher</th>\n",
       "      <th>property price</th>\n",
       "    </tr>\n",
       "  </thead>\n",
       "  <tbody>\n",
       "    <tr>\n",
       "      <th>0</th>\n",
       "      <td>19</td>\n",
       "      <td>17600</td>\n",
       "    </tr>\n",
       "    <tr>\n",
       "      <th>1</th>\n",
       "      <td>19</td>\n",
       "      <td>18500</td>\n",
       "    </tr>\n",
       "    <tr>\n",
       "      <th>2</th>\n",
       "      <td>19</td>\n",
       "      <td>24300</td>\n",
       "    </tr>\n",
       "    <tr>\n",
       "      <th>3</th>\n",
       "      <td>19</td>\n",
       "      <td>20500</td>\n",
       "    </tr>\n",
       "    <tr>\n",
       "      <th>4</th>\n",
       "      <td>19</td>\n",
       "      <td>24500</td>\n",
       "    </tr>\n",
       "    <tr>\n",
       "      <th>5</th>\n",
       "      <td>19</td>\n",
       "      <td>26200</td>\n",
       "    </tr>\n",
       "    <tr>\n",
       "      <th>6</th>\n",
       "      <td>19</td>\n",
       "      <td>24400</td>\n",
       "    </tr>\n",
       "  </tbody>\n",
       "</table>\n",
       "</div>"
      ],
      "text/plain": [
       "   number of pupils per teacher  property price\n",
       "0                            19           17600\n",
       "1                            19           18500\n",
       "2                            19           24300\n",
       "3                            19           20500\n",
       "4                            19           24500\n",
       "5                            19           26200\n",
       "6                            19           24400"
      ]
     },
     "execution_count": 150,
     "metadata": {},
     "output_type": "execute_result"
    }
   ],
   "source": [
    "data.head(7)[[\"number of pupils per teacher\",\"property price\"]]"
   ]
  },
  {
   "cell_type": "code",
   "execution_count": 151,
   "id": "81d9f1ce",
   "metadata": {},
   "outputs": [
    {
     "name": "stderr",
     "output_type": "stream",
     "text": [
      "/Users/sabbirahamedsaown/opt/anaconda3/lib/python3.9/site-packages/seaborn/_decorators.py:36: FutureWarning: Pass the following variables as keyword args: x, y. From version 0.12, the only valid positional argument will be `data`, and passing other arguments without an explicit keyword will result in an error or misinterpretation.\n",
      "  warnings.warn(\n"
     ]
    },
    {
     "data": {
      "text/plain": [
       "<AxesSubplot:xlabel='property price', ylabel='number of pupils per teacher'>"
      ]
     },
     "execution_count": 151,
     "metadata": {},
     "output_type": "execute_result"
    },
    {
     "data": {
      "image/png": "[encoded data removed]",
      "text/plain": [
       "<Figure size 432x288 with 1 Axes>"
      ]
     },
     "metadata": {
      "needs_background": "light"
     },
     "output_type": "display_data"
    }
   ],
   "source": [
    "sns.regplot(data.head(7)['property price'],data.head(7)['number of pupils per teacher'],color='Green')"
   ]
  },
  {
   "cell_type": "markdown",
   "id": "a2d92f89",
   "metadata": {},
   "source": [
    " The datachart and graph shows that there is no correlation between the number of pupil and the property prices. The price of properties in Farmingham doesn't depend on the pupil-teacher ratio.\n",
    " \n",
    " \n",
    " \n",
    " After inspecting five correlation, we can say that the property prices of the town Farmingham mostly depends on the property tax per year and the number of rooms.\n",
    " \n",
    " \n",
    "To give more analysis about the data ,we can use the empiricial law"
   ]
  },
  {
   "cell_type": "markdown",
   "id": "191f7ded",
   "metadata": {},
   "source": [
    "# property price distribution:(Framingham)"
   ]
  },
  {
   "cell_type": "markdown",
   "id": "3b7b4c74",
   "metadata": {},
   "source": [
    "To find the probability property price distribution for the town of Framingham, We can use the empricial rule and later use a gaussian curve to make the data more understandable to the reader.\n",
    "\n",
    "The code below shows the empricial values of property prices in Framingham."
   ]
  },
  {
   "cell_type": "code",
   "execution_count": 152,
   "id": "b70163b3",
   "metadata": {},
   "outputs": [
    {
     "name": "stdout",
     "output_type": "stream",
     "text": [
      "68% of the prices fall within (18913.559400714286, 25657.869170714286)\n",
      "95% of the prices fall within (15541.404515714286, 29030.024055714286)\n",
      "99.7% of the prices fall down within (12169.249630714286, 32402.178940714286)\n"
     ]
    }
   ],
   "source": [
    "mean=22285.714285714286\n",
    "std=3372.154885\n",
    "print('68% of the prices fall within',(mean-std,mean+std))\n",
    "print('95% of the prices fall within',(mean-2*std,mean+2*std))\n",
    "print('99.7% of the prices fall down within',(mean-3*std,mean+3*std))"
   ]
  },
  {
   "cell_type": "markdown",
   "id": "858fe1b1",
   "metadata": {},
   "source": [
    "From the calculation above we can say that property prices of Farmingham falls under one  standard deviation from the mean(23413.559-30157.869). We can say that there is no outliers in the property prices.\n",
    "\n",
    "Now we can draw the gaussian curve to findout if the prices are scattered arounf mean:"
   ]
  },
  {
   "cell_type": "code",
   "execution_count": 153,
   "id": "7103114a",
   "metadata": {},
   "outputs": [
    {
     "data": {
      "text/plain": [
       "[<matplotlib.lines.Line2D at 0x7f7f6a35bbb0>]"
      ]
     },
     "execution_count": 153,
     "metadata": {},
     "output_type": "execute_result"
    },
    {
     "data": {
      "image/png": "[encoded data removed]",
      "text/plain": [
       "<Figure size 432x288 with 1 Axes>"
      ]
     },
     "metadata": {
      "needs_background": "light"
     },
     "output_type": "display_data"
    }
   ],
   "source": [
    "a=np.arange(-85000,85000,0.8)\n",
    "plt.plot(a,norm.pdf(a,3372.154885,26785.714285714286),color='green',linewidth=5)"
   ]
  },
  {
   "cell_type": "code",
   "execution_count": 154,
   "id": "34711ca2",
   "metadata": {},
   "outputs": [
    {
     "data": {
      "text/plain": [
       "-0.45256464850991196"
      ]
     },
     "execution_count": 154,
     "metadata": {},
     "output_type": "execute_result"
    }
   ],
   "source": [
    "skew(data.head(7)['property price'],bias=False)"
   ]
  },
  {
   "cell_type": "code",
   "execution_count": 155,
   "id": "0d1b063a",
   "metadata": {},
   "outputs": [
    {
     "data": {
      "text/plain": [
       "1.4929836630808995"
      ]
     },
     "execution_count": 155,
     "metadata": {},
     "output_type": "execute_result"
    }
   ],
   "source": [
    "kurtosis(data.head(7)['property price'],fisher=False)"
   ]
  },
  {
   "cell_type": "markdown",
   "id": "1661e279",
   "metadata": {},
   "source": [
    "The gaussian curve gives us a negative skewness and positive kurtosis.\n",
    "\n",
    "Negative skewed distribution refers to the mean price being less than the median. As a result there could be small wins and some large losses in investment. But it also ensures a steady profit of buying and selling properties in Framingham.\n",
    "\n",
    "The positive kurtosis refers that there are property prices which are more than the mean price. So, There could be huge losses in this particular regard because of the properties being priced over the mean price."
   ]
  },
  {
   "cell_type": "markdown",
   "id": "3ba71b83",
   "metadata": {},
   "source": [
    " ## conclusion:"
   ]
  },
  {
   "cell_type": "markdown",
   "id": "a0c84365",
   "metadata": {},
   "source": [
    "At last,  We can say that, property prices in the town of farmingam depends on Property tax per year and the number of rooms, and real estate investment can bring steady profits with some not often loses."
   ]
  },
  {
   "cell_type": "markdown",
   "id": "0e665a0a",
   "metadata": {},
   "source": [
    "* # Numerical Analysis for Hamilton"
   ]
  },
  {
   "cell_type": "markdown",
   "id": "2aafb1f2",
   "metadata": {},
   "source": [
    "The data below shows the informaation of for the town of Hamilton"
   ]
  },
  {
   "cell_type": "code",
   "execution_count": 156,
   "id": "786fec40",
   "metadata": {},
   "outputs": [
    {
     "data": {
      "text/html": [
       "<div>\n",
       "<style scoped>\n",
       "    .dataframe tbody tr th:only-of-type {\n",
       "        vertical-align: middle;\n",
       "    }\n",
       "\n",
       "    .dataframe tbody tr th {\n",
       "        vertical-align: top;\n",
       "    }\n",
       "\n",
       "    .dataframe thead th {\n",
       "        text-align: right;\n",
       "    }\n",
       "</style>\n",
       "<table border=\"1\" class=\"dataframe\">\n",
       "  <thead>\n",
       "    <tr style=\"text-align: right;\">\n",
       "      <th></th>\n",
       "      <th>TOWN/VILLAGE</th>\n",
       "      <th>number of rooms</th>\n",
       "      <th>age of property</th>\n",
       "      <th>distance to nearest town centre</th>\n",
       "      <th>property tax per year</th>\n",
       "      <th>number of pupils per teacher</th>\n",
       "      <th>property price</th>\n",
       "    </tr>\n",
       "  </thead>\n",
       "  <tbody>\n",
       "    <tr>\n",
       "      <th>8</th>\n",
       "      <td>Hamilton</td>\n",
       "      <td>7</td>\n",
       "      <td>28</td>\n",
       "      <td>8.54</td>\n",
       "      <td>810.81</td>\n",
       "      <td>18</td>\n",
       "      <td>23100</td>\n",
       "    </tr>\n",
       "    <tr>\n",
       "      <th>9</th>\n",
       "      <td>Hamilton</td>\n",
       "      <td>7</td>\n",
       "      <td>56</td>\n",
       "      <td>5.73</td>\n",
       "      <td>884.30</td>\n",
       "      <td>18</td>\n",
       "      <td>23900</td>\n",
       "    </tr>\n",
       "    <tr>\n",
       "      <th>10</th>\n",
       "      <td>Hamilton</td>\n",
       "      <td>7</td>\n",
       "      <td>28</td>\n",
       "      <td>6.47</td>\n",
       "      <td>1154.40</td>\n",
       "      <td>18</td>\n",
       "      <td>31200</td>\n",
       "    </tr>\n",
       "    <tr>\n",
       "      <th>11</th>\n",
       "      <td>Hamilton</td>\n",
       "      <td>6</td>\n",
       "      <td>28</td>\n",
       "      <td>6.64</td>\n",
       "      <td>519.84</td>\n",
       "      <td>17</td>\n",
       "      <td>17100</td>\n",
       "    </tr>\n",
       "    <tr>\n",
       "      <th>12</th>\n",
       "      <td>Hamilton</td>\n",
       "      <td>6</td>\n",
       "      <td>23</td>\n",
       "      <td>6.64</td>\n",
       "      <td>589.76</td>\n",
       "      <td>17</td>\n",
       "      <td>19400</td>\n",
       "    </tr>\n",
       "    <tr>\n",
       "      <th>13</th>\n",
       "      <td>Hamilton</td>\n",
       "      <td>7</td>\n",
       "      <td>60</td>\n",
       "      <td>6.27</td>\n",
       "      <td>696.30</td>\n",
       "      <td>16</td>\n",
       "      <td>16500</td>\n",
       "    </tr>\n",
       "  </tbody>\n",
       "</table>\n",
       "</div>"
      ],
      "text/plain": [
       "   TOWN/VILLAGE  number of rooms  age of property  \\\n",
       "8      Hamilton                7               28   \n",
       "9      Hamilton                7               56   \n",
       "10     Hamilton                7               28   \n",
       "11     Hamilton                6               28   \n",
       "12     Hamilton                6               23   \n",
       "13     Hamilton                7               60   \n",
       "\n",
       "    distance to nearest town centre  property tax per year  \\\n",
       "8                              8.54                 810.81   \n",
       "9                              5.73                 884.30   \n",
       "10                             6.47                1154.40   \n",
       "11                             6.64                 519.84   \n",
       "12                             6.64                 589.76   \n",
       "13                             6.27                 696.30   \n",
       "\n",
       "    number of pupils per teacher  property price  \n",
       "8                             18           23100  \n",
       "9                             18           23900  \n",
       "10                            18           31200  \n",
       "11                            17           17100  \n",
       "12                            17           19400  \n",
       "13                            16           16500  "
      ]
     },
     "execution_count": 156,
     "metadata": {},
     "output_type": "execute_result"
    }
   ],
   "source": [
    "data.iloc[8:14]"
   ]
  },
  {
   "cell_type": "code",
   "execution_count": 157,
   "id": "2433be4e",
   "metadata": {},
   "outputs": [
    {
     "data": {
      "text/plain": [
       "count        6.000000\n",
       "mean     21866.666667\n",
       "std       5484.037442\n",
       "min      16500.000000\n",
       "25%      17675.000000\n",
       "50%      21250.000000\n",
       "75%      23700.000000\n",
       "max      31200.000000\n",
       "Name: property price, dtype: float64"
      ]
     },
     "execution_count": 157,
     "metadata": {},
     "output_type": "execute_result"
    }
   ],
   "source": [
    "data.iloc[8:14][\"property price\"].describe()"
   ]
  },
  {
   "cell_type": "markdown",
   "id": "b4a1d0f6",
   "metadata": {},
   "source": [
    "The above command <font color=\"Green\">describe</font> don't include interquartile range,variance,outliers,range, so in the following cell we will perform it manually"
   ]
  },
  {
   "cell_type": "code",
   "execution_count": 158,
   "id": "0addc6f1",
   "metadata": {},
   "outputs": [
    {
     "name": "stdout",
     "output_type": "stream",
     "text": [
      "33000.0\n",
      "8200.0\n",
      "14700\n"
     ]
    },
    {
     "data": {
      "text/plain": [
       "25062222.222222224"
      ]
     },
     "execution_count": 158,
     "metadata": {},
     "output_type": "execute_result"
    }
   ],
   "source": [
    "interquartile_range =(23700-17500)\n",
    "#we know that ,range= max value - min value\n",
    "range =(31200-16500)\n",
    "# upper outlier = upper quartile+(1.5*Interquartile range)\n",
    "upper_outlier=23700+(1.5*interquartile_range)\n",
    "# lower outlier = lower quartile-(1.5*Interquartile range)\n",
    "lower_outlier=17500-(1.5*interquartile_range)\n",
    "#variance\n",
    "print(upper_outlier)\n",
    "print(lower_outlier)\n",
    "print(range)\n",
    "np.var(data.iloc[8:14]['property price'])"
   ]
  },
  {
   "cell_type": "code",
   "execution_count": 159,
   "id": "7adf55f0",
   "metadata": {},
   "outputs": [
    {
     "data": {
      "text/plain": [
       "21866.666666666668"
      ]
     },
     "execution_count": 159,
     "metadata": {},
     "output_type": "execute_result"
    }
   ],
   "source": [
    "data.iloc[8:14][\"property price\"].mean()"
   ]
  },
  {
   "cell_type": "code",
   "execution_count": 160,
   "id": "d6946d7a",
   "metadata": {},
   "outputs": [
    {
     "data": {
      "text/plain": [
       "21250.0"
      ]
     },
     "execution_count": 160,
     "metadata": {},
     "output_type": "execute_result"
    }
   ],
   "source": [
    "data.iloc[8:14][\"property price\"].median()"
   ]
  },
  {
   "cell_type": "code",
   "execution_count": 161,
   "id": "00f738af",
   "metadata": {},
   "outputs": [
    {
     "data": {
      "text/plain": [
       "<AxesSubplot:>"
      ]
     },
     "execution_count": 161,
     "metadata": {},
     "output_type": "execute_result"
    },
    {
     "data": {
      "image/png": "[encoded data removed]",
      "text/plain": [
       "<Figure size 1008x432 with 1 Axes>"
      ]
     },
     "metadata": {
      "needs_background": "light"
     },
     "output_type": "display_data"
    }
   ],
   "source": [
    "data.iloc[8:14][\"property price\"].plot(kind='box',vert=False,figsize=(14,6),color='Green')"
   ]
  },
  {
   "cell_type": "markdown",
   "id": "5441c266",
   "metadata": {},
   "source": [
    "There are no outliers in the pricing of property in Hamilton, according to the boxplot and dataset above. There isn't a single property priced more than 31200 and lesss than 16500 dollars.\n",
    "\n",
    "The data set also reveals a wide variety of home price variations. The large variance of (25062222.222222224) shows the same case as the standard deviation of 5484.037442.\n",
    "\n",
    "We'll show it utilizing the Empiricial rule and a Gaussian curve to represent the data following the correlation part."
   ]
  },
  {
   "cell_type": "code",
   "execution_count": 162,
   "id": "df625c7d",
   "metadata": {},
   "outputs": [
    {
     "data": {
      "text/html": [
       "<div>\n",
       "<style scoped>\n",
       "    .dataframe tbody tr th:only-of-type {\n",
       "        vertical-align: middle;\n",
       "    }\n",
       "\n",
       "    .dataframe tbody tr th {\n",
       "        vertical-align: top;\n",
       "    }\n",
       "\n",
       "    .dataframe thead th {\n",
       "        text-align: right;\n",
       "    }\n",
       "</style>\n",
       "<table border=\"1\" class=\"dataframe\">\n",
       "  <thead>\n",
       "    <tr style=\"text-align: right;\">\n",
       "      <th></th>\n",
       "      <th>number of rooms</th>\n",
       "      <th>age of property</th>\n",
       "      <th>distance to nearest town centre</th>\n",
       "      <th>property tax per year</th>\n",
       "      <th>number of pupils per teacher</th>\n",
       "      <th>property price</th>\n",
       "    </tr>\n",
       "  </thead>\n",
       "  <tbody>\n",
       "    <tr>\n",
       "      <th>number of rooms</th>\n",
       "      <td>1.000000</td>\n",
       "      <td>0.554335</td>\n",
       "      <td>0.060765</td>\n",
       "      <td>0.747058</td>\n",
       "      <td>0.316228</td>\n",
       "      <td>0.510839</td>\n",
       "    </tr>\n",
       "    <tr>\n",
       "      <th>age of property</th>\n",
       "      <td>0.554335</td>\n",
       "      <td>1.000000</td>\n",
       "      <td>-0.531829</td>\n",
       "      <td>0.075915</td>\n",
       "      <td>-0.335567</td>\n",
       "      <td>-0.229225</td>\n",
       "    </tr>\n",
       "    <tr>\n",
       "      <th>distance to nearest town centre</th>\n",
       "      <td>0.060765</td>\n",
       "      <td>-0.531829</td>\n",
       "      <td>1.000000</td>\n",
       "      <td>-0.061329</td>\n",
       "      <td>0.266458</td>\n",
       "      <td>0.034026</td>\n",
       "    </tr>\n",
       "    <tr>\n",
       "      <th>property tax per year</th>\n",
       "      <td>0.747058</td>\n",
       "      <td>0.075915</td>\n",
       "      <td>-0.061329</td>\n",
       "      <td>1.000000</td>\n",
       "      <td>0.642585</td>\n",
       "      <td>0.939054</td>\n",
       "    </tr>\n",
       "    <tr>\n",
       "      <th>number of pupils per teacher</th>\n",
       "      <td>0.316228</td>\n",
       "      <td>-0.335567</td>\n",
       "      <td>0.266458</td>\n",
       "      <td>0.642585</td>\n",
       "      <td>1.000000</td>\n",
       "      <td>0.802496</td>\n",
       "    </tr>\n",
       "    <tr>\n",
       "      <th>property price</th>\n",
       "      <td>0.510839</td>\n",
       "      <td>-0.229225</td>\n",
       "      <td>0.034026</td>\n",
       "      <td>0.939054</td>\n",
       "      <td>0.802496</td>\n",
       "      <td>1.000000</td>\n",
       "    </tr>\n",
       "  </tbody>\n",
       "</table>\n",
       "</div>"
      ],
      "text/plain": [
       "                                 number of rooms  age of property  \\\n",
       "number of rooms                         1.000000         0.554335   \n",
       "age of property                         0.554335         1.000000   \n",
       "distance to nearest town centre         0.060765        -0.531829   \n",
       "property tax per year                   0.747058         0.075915   \n",
       "number of pupils per teacher            0.316228        -0.335567   \n",
       "property price                          0.510839        -0.229225   \n",
       "\n",
       "                                 distance to nearest town centre  \\\n",
       "number of rooms                                         0.060765   \n",
       "age of property                                        -0.531829   \n",
       "distance to nearest town centre                         1.000000   \n",
       "property tax per year                                  -0.061329   \n",
       "number of pupils per teacher                            0.266458   \n",
       "property price                                          0.034026   \n",
       "\n",
       "                                 property tax per year  \\\n",
       "number of rooms                               0.747058   \n",
       "age of property                               0.075915   \n",
       "distance to nearest town centre              -0.061329   \n",
       "property tax per year                         1.000000   \n",
       "number of pupils per teacher                  0.642585   \n",
       "property price                                0.939054   \n",
       "\n",
       "                                 number of pupils per teacher  property price  \n",
       "number of rooms                                      0.316228        0.510839  \n",
       "age of property                                     -0.335567       -0.229225  \n",
       "distance to nearest town centre                      0.266458        0.034026  \n",
       "property tax per year                                0.642585        0.939054  \n",
       "number of pupils per teacher                         1.000000        0.802496  \n",
       "property price                                       0.802496        1.000000  "
      ]
     },
     "execution_count": 162,
     "metadata": {},
     "output_type": "execute_result"
    }
   ],
   "source": [
    "corre_Hamilton = data.iloc[8:14].corr()\n",
    "corre_Hamilton"
   ]
  },
  {
   "cell_type": "markdown",
   "id": "a5b0a982",
   "metadata": {},
   "source": [
    " In the next cells, we'll give an deep analysis of each parameter from the data table and determine what actually affects the property prices in the city of Hamilton"
   ]
  },
  {
   "cell_type": "code",
   "execution_count": 163,
   "id": "b78b51c5",
   "metadata": {},
   "outputs": [
    {
     "data": {
      "text/html": [
       "<div>\n",
       "<style scoped>\n",
       "    .dataframe tbody tr th:only-of-type {\n",
       "        vertical-align: middle;\n",
       "    }\n",
       "\n",
       "    .dataframe tbody tr th {\n",
       "        vertical-align: top;\n",
       "    }\n",
       "\n",
       "    .dataframe thead th {\n",
       "        text-align: right;\n",
       "    }\n",
       "</style>\n",
       "<table border=\"1\" class=\"dataframe\">\n",
       "  <thead>\n",
       "    <tr style=\"text-align: right;\">\n",
       "      <th></th>\n",
       "      <th>number of rooms</th>\n",
       "      <th>property price</th>\n",
       "    </tr>\n",
       "  </thead>\n",
       "  <tbody>\n",
       "    <tr>\n",
       "      <th>8</th>\n",
       "      <td>7</td>\n",
       "      <td>23100</td>\n",
       "    </tr>\n",
       "    <tr>\n",
       "      <th>9</th>\n",
       "      <td>7</td>\n",
       "      <td>23900</td>\n",
       "    </tr>\n",
       "    <tr>\n",
       "      <th>10</th>\n",
       "      <td>7</td>\n",
       "      <td>31200</td>\n",
       "    </tr>\n",
       "    <tr>\n",
       "      <th>11</th>\n",
       "      <td>6</td>\n",
       "      <td>17100</td>\n",
       "    </tr>\n",
       "    <tr>\n",
       "      <th>12</th>\n",
       "      <td>6</td>\n",
       "      <td>19400</td>\n",
       "    </tr>\n",
       "    <tr>\n",
       "      <th>13</th>\n",
       "      <td>7</td>\n",
       "      <td>16500</td>\n",
       "    </tr>\n",
       "  </tbody>\n",
       "</table>\n",
       "</div>"
      ],
      "text/plain": [
       "    number of rooms  property price\n",
       "8                 7           23100\n",
       "9                 7           23900\n",
       "10                7           31200\n",
       "11                6           17100\n",
       "12                6           19400\n",
       "13                7           16500"
      ]
     },
     "execution_count": 163,
     "metadata": {},
     "output_type": "execute_result"
    }
   ],
   "source": [
    "data.iloc[8:14][['number of rooms',\"property price\"]]"
   ]
  },
  {
   "cell_type": "code",
   "execution_count": 42,
   "id": "719e0832",
   "metadata": {},
   "outputs": [
    {
     "data": {
      "image/png": "[encoded data removed]",
      "text/plain": [
       "<Figure size 432x288 with 1 Axes>"
      ]
     },
     "metadata": {
      "needs_background": "light"
     },
     "output_type": "display_data"
    }
   ],
   "source": [
    "number_of_rooms= np.array([7,7,7,6,6,7])\n",
    "property_price= np.array([23100,23900,31200,17100,19400,16500])\n",
    "\n",
    "plt.title(\"Correlation between property price and the number of rooms \")\n",
    "plt.xlabel(\"number_of _rooms\")\n",
    "plt.ylabel(\"property_price\")\n",
    "\n",
    "plt.plot(number_of_rooms,property_price)\n",
    "\n",
    "plt.grid()\n",
    "\n",
    "plt.show()"
   ]
  },
  {
   "cell_type": "markdown",
   "id": "832094a3",
   "metadata": {},
   "source": [
    "Because the correlation coefficient is 0.510839, the grid above suggests that there is a moderate or significant link between property price and the number of rooms in Hamilton (on the data chart above). This means that the number of rooms has a moderate to high impact on property prices in Hamilton."
   ]
  },
  {
   "cell_type": "code",
   "execution_count": 165,
   "id": "aec74b09",
   "metadata": {},
   "outputs": [
    {
     "data": {
      "text/html": [
       "<div>\n",
       "<style scoped>\n",
       "    .dataframe tbody tr th:only-of-type {\n",
       "        vertical-align: middle;\n",
       "    }\n",
       "\n",
       "    .dataframe tbody tr th {\n",
       "        vertical-align: top;\n",
       "    }\n",
       "\n",
       "    .dataframe thead th {\n",
       "        text-align: right;\n",
       "    }\n",
       "</style>\n",
       "<table border=\"1\" class=\"dataframe\">\n",
       "  <thead>\n",
       "    <tr style=\"text-align: right;\">\n",
       "      <th></th>\n",
       "      <th>age of property</th>\n",
       "      <th>property price</th>\n",
       "    </tr>\n",
       "  </thead>\n",
       "  <tbody>\n",
       "    <tr>\n",
       "      <th>8</th>\n",
       "      <td>28</td>\n",
       "      <td>23100</td>\n",
       "    </tr>\n",
       "    <tr>\n",
       "      <th>9</th>\n",
       "      <td>56</td>\n",
       "      <td>23900</td>\n",
       "    </tr>\n",
       "    <tr>\n",
       "      <th>10</th>\n",
       "      <td>28</td>\n",
       "      <td>31200</td>\n",
       "    </tr>\n",
       "    <tr>\n",
       "      <th>11</th>\n",
       "      <td>28</td>\n",
       "      <td>17100</td>\n",
       "    </tr>\n",
       "    <tr>\n",
       "      <th>12</th>\n",
       "      <td>23</td>\n",
       "      <td>19400</td>\n",
       "    </tr>\n",
       "    <tr>\n",
       "      <th>13</th>\n",
       "      <td>60</td>\n",
       "      <td>16500</td>\n",
       "    </tr>\n",
       "  </tbody>\n",
       "</table>\n",
       "</div>"
      ],
      "text/plain": [
       "    age of property  property price\n",
       "8                28           23100\n",
       "9                56           23900\n",
       "10               28           31200\n",
       "11               28           17100\n",
       "12               23           19400\n",
       "13               60           16500"
      ]
     },
     "execution_count": 165,
     "metadata": {},
     "output_type": "execute_result"
    }
   ],
   "source": [
    "data.iloc[8:14][['age of property','property price']]"
   ]
  },
  {
   "cell_type": "code",
   "execution_count": 166,
   "id": "b2302f48",
   "metadata": {},
   "outputs": [
    {
     "name": "stderr",
     "output_type": "stream",
     "text": [
      "/Users/sabbirahamedsaown/opt/anaconda3/lib/python3.9/site-packages/seaborn/_decorators.py:36: FutureWarning: Pass the following variables as keyword args: x, y. From version 0.12, the only valid positional argument will be `data`, and passing other arguments without an explicit keyword will result in an error or misinterpretation.\n",
      "  warnings.warn(\n"
     ]
    },
    {
     "data": {
      "text/plain": [
       "<AxesSubplot:xlabel='property price', ylabel='age of property'>"
      ]
     },
     "execution_count": 166,
     "metadata": {},
     "output_type": "execute_result"
    },
    {
     "data": {
      "image/png": "[encoded data removed]",
      "text/plain": [
       "<Figure size 432x288 with 1 Axes>"
      ]
     },
     "metadata": {
      "needs_background": "light"
     },
     "output_type": "display_data"
    }
   ],
   "source": [
    "sns.regplot(data.iloc[8:14]['property price'],data.iloc[8:14]['age of property'],color='Green')"
   ]
  },
  {
   "cell_type": "markdown",
   "id": "774bf1c8",
   "metadata": {},
   "source": [
    "Because the correlation coefficient in Hamilton is -0.229225 , the graph above suggests that there is a negative weak correlation between property price and number of rooms (on the data chart above). This means that the number of rooms has very little impact on Hamilton real estate prices."
   ]
  },
  {
   "cell_type": "code",
   "execution_count": 167,
   "id": "212ea9f3",
   "metadata": {},
   "outputs": [
    {
     "data": {
      "text/html": [
       "<div>\n",
       "<style scoped>\n",
       "    .dataframe tbody tr th:only-of-type {\n",
       "        vertical-align: middle;\n",
       "    }\n",
       "\n",
       "    .dataframe tbody tr th {\n",
       "        vertical-align: top;\n",
       "    }\n",
       "\n",
       "    .dataframe thead th {\n",
       "        text-align: right;\n",
       "    }\n",
       "</style>\n",
       "<table border=\"1\" class=\"dataframe\">\n",
       "  <thead>\n",
       "    <tr style=\"text-align: right;\">\n",
       "      <th></th>\n",
       "      <th>distance to nearest town centre</th>\n",
       "      <th>property price</th>\n",
       "    </tr>\n",
       "  </thead>\n",
       "  <tbody>\n",
       "    <tr>\n",
       "      <th>8</th>\n",
       "      <td>8.54</td>\n",
       "      <td>23100</td>\n",
       "    </tr>\n",
       "    <tr>\n",
       "      <th>9</th>\n",
       "      <td>5.73</td>\n",
       "      <td>23900</td>\n",
       "    </tr>\n",
       "    <tr>\n",
       "      <th>10</th>\n",
       "      <td>6.47</td>\n",
       "      <td>31200</td>\n",
       "    </tr>\n",
       "    <tr>\n",
       "      <th>11</th>\n",
       "      <td>6.64</td>\n",
       "      <td>17100</td>\n",
       "    </tr>\n",
       "    <tr>\n",
       "      <th>12</th>\n",
       "      <td>6.64</td>\n",
       "      <td>19400</td>\n",
       "    </tr>\n",
       "    <tr>\n",
       "      <th>13</th>\n",
       "      <td>6.27</td>\n",
       "      <td>16500</td>\n",
       "    </tr>\n",
       "  </tbody>\n",
       "</table>\n",
       "</div>"
      ],
      "text/plain": [
       "    distance to nearest town centre  property price\n",
       "8                              8.54           23100\n",
       "9                              5.73           23900\n",
       "10                             6.47           31200\n",
       "11                             6.64           17100\n",
       "12                             6.64           19400\n",
       "13                             6.27           16500"
      ]
     },
     "execution_count": 167,
     "metadata": {},
     "output_type": "execute_result"
    }
   ],
   "source": [
    "data.iloc[8:14][[\"distance to nearest town centre\",\"property price\"]]"
   ]
  },
  {
   "cell_type": "code",
   "execution_count": 168,
   "id": "af011a54",
   "metadata": {},
   "outputs": [
    {
     "name": "stderr",
     "output_type": "stream",
     "text": [
      "/Users/sabbirahamedsaown/opt/anaconda3/lib/python3.9/site-packages/seaborn/_decorators.py:36: FutureWarning: Pass the following variables as keyword args: x, y. From version 0.12, the only valid positional argument will be `data`, and passing other arguments without an explicit keyword will result in an error or misinterpretation.\n",
      "  warnings.warn(\n"
     ]
    },
    {
     "data": {
      "text/plain": [
       "<AxesSubplot:xlabel='distance to nearest town centre', ylabel='property price'>"
      ]
     },
     "execution_count": 168,
     "metadata": {},
     "output_type": "execute_result"
    },
    {
     "data": {
      "image/png": "[encoded data removed]",
      "text/plain": [
       "<Figure size 432x288 with 1 Axes>"
      ]
     },
     "metadata": {
      "needs_background": "light"
     },
     "output_type": "display_data"
    }
   ],
   "source": [
    "sns.regplot(data.iloc[8:14][\"distance to nearest town centre\"],data.iloc[8:14][\"property price\"],color='Green')"
   ]
  },
  {
   "cell_type": "markdown",
   "id": "abf90bf1",
   "metadata": {},
   "source": [
    "The correlation coefficient is 0.034026. This shows us that there is a weak correlation between the prices of properties and distances of the properties to the nearest town centre. It doesn't affect the property prices "
   ]
  },
  {
   "cell_type": "code",
   "execution_count": 169,
   "id": "692ae366",
   "metadata": {},
   "outputs": [
    {
     "data": {
      "text/html": [
       "<div>\n",
       "<style scoped>\n",
       "    .dataframe tbody tr th:only-of-type {\n",
       "        vertical-align: middle;\n",
       "    }\n",
       "\n",
       "    .dataframe tbody tr th {\n",
       "        vertical-align: top;\n",
       "    }\n",
       "\n",
       "    .dataframe thead th {\n",
       "        text-align: right;\n",
       "    }\n",
       "</style>\n",
       "<table border=\"1\" class=\"dataframe\">\n",
       "  <thead>\n",
       "    <tr style=\"text-align: right;\">\n",
       "      <th></th>\n",
       "      <th>property tax per year</th>\n",
       "      <th>property price</th>\n",
       "    </tr>\n",
       "  </thead>\n",
       "  <tbody>\n",
       "    <tr>\n",
       "      <th>8</th>\n",
       "      <td>810.81</td>\n",
       "      <td>23100</td>\n",
       "    </tr>\n",
       "    <tr>\n",
       "      <th>9</th>\n",
       "      <td>884.30</td>\n",
       "      <td>23900</td>\n",
       "    </tr>\n",
       "    <tr>\n",
       "      <th>10</th>\n",
       "      <td>1154.40</td>\n",
       "      <td>31200</td>\n",
       "    </tr>\n",
       "    <tr>\n",
       "      <th>11</th>\n",
       "      <td>519.84</td>\n",
       "      <td>17100</td>\n",
       "    </tr>\n",
       "    <tr>\n",
       "      <th>12</th>\n",
       "      <td>589.76</td>\n",
       "      <td>19400</td>\n",
       "    </tr>\n",
       "    <tr>\n",
       "      <th>13</th>\n",
       "      <td>696.30</td>\n",
       "      <td>16500</td>\n",
       "    </tr>\n",
       "  </tbody>\n",
       "</table>\n",
       "</div>"
      ],
      "text/plain": [
       "    property tax per year  property price\n",
       "8                  810.81           23100\n",
       "9                  884.30           23900\n",
       "10                1154.40           31200\n",
       "11                 519.84           17100\n",
       "12                 589.76           19400\n",
       "13                 696.30           16500"
      ]
     },
     "execution_count": 169,
     "metadata": {},
     "output_type": "execute_result"
    }
   ],
   "source": [
    "data.iloc[8:14][['property tax per year','property price']]"
   ]
  },
  {
   "cell_type": "code",
   "execution_count": 44,
   "id": "7995472e",
   "metadata": {},
   "outputs": [
    {
     "data": {
      "image/png": "[encoded data removed]",
      "text/plain": [
       "<Figure size 432x288 with 1 Axes>"
      ]
     },
     "metadata": {
      "needs_background": "light"
     },
     "output_type": "display_data"
    }
   ],
   "source": [
    "ratio=[\"prop1\",\"prop2\",\"prop3\",\"prop4\",\"prop5\",\"prop6\"]\n",
    "taxes=[810.81,884.30,1154.40,519.84,589.76,696.30]\n",
    "property_price=[23100,23900,31200,17200,19400,16500]\n",
    "plt.xlabel(\"Property prices in Hamilton\")\n",
    "plt.plot(ratio,taxes,label='taxes per year')\n",
    "plt.plot(ratio,property_price,label=' property price')\n",
    "plt.legend(loc=1)\n",
    "plt.show()"
   ]
  },
  {
   "cell_type": "markdown",
   "id": "42219f60",
   "metadata": {},
   "source": [
    "Because the correlation coefficient in Hamilton is 0.939054, the multigraph above reveals that there is a moderate or significant link between property price and number of rooms (on the data chart above). This means that the number of rooms has a moderate to large impact on Hamilton real estate prices."
   ]
  },
  {
   "cell_type": "code",
   "execution_count": 171,
   "id": "2c051267",
   "metadata": {},
   "outputs": [
    {
     "data": {
      "text/html": [
       "<div>\n",
       "<style scoped>\n",
       "    .dataframe tbody tr th:only-of-type {\n",
       "        vertical-align: middle;\n",
       "    }\n",
       "\n",
       "    .dataframe tbody tr th {\n",
       "        vertical-align: top;\n",
       "    }\n",
       "\n",
       "    .dataframe thead th {\n",
       "        text-align: right;\n",
       "    }\n",
       "</style>\n",
       "<table border=\"1\" class=\"dataframe\">\n",
       "  <thead>\n",
       "    <tr style=\"text-align: right;\">\n",
       "      <th></th>\n",
       "      <th>number of pupils per teacher</th>\n",
       "      <th>property price</th>\n",
       "    </tr>\n",
       "  </thead>\n",
       "  <tbody>\n",
       "    <tr>\n",
       "      <th>8</th>\n",
       "      <td>18</td>\n",
       "      <td>23100</td>\n",
       "    </tr>\n",
       "    <tr>\n",
       "      <th>9</th>\n",
       "      <td>18</td>\n",
       "      <td>23900</td>\n",
       "    </tr>\n",
       "    <tr>\n",
       "      <th>10</th>\n",
       "      <td>18</td>\n",
       "      <td>31200</td>\n",
       "    </tr>\n",
       "    <tr>\n",
       "      <th>11</th>\n",
       "      <td>17</td>\n",
       "      <td>17100</td>\n",
       "    </tr>\n",
       "    <tr>\n",
       "      <th>12</th>\n",
       "      <td>17</td>\n",
       "      <td>19400</td>\n",
       "    </tr>\n",
       "    <tr>\n",
       "      <th>13</th>\n",
       "      <td>16</td>\n",
       "      <td>16500</td>\n",
       "    </tr>\n",
       "  </tbody>\n",
       "</table>\n",
       "</div>"
      ],
      "text/plain": [
       "    number of pupils per teacher  property price\n",
       "8                             18           23100\n",
       "9                             18           23900\n",
       "10                            18           31200\n",
       "11                            17           17100\n",
       "12                            17           19400\n",
       "13                            16           16500"
      ]
     },
     "execution_count": 171,
     "metadata": {},
     "output_type": "execute_result"
    }
   ],
   "source": [
    "data.iloc[8:14][[\"number of pupils per teacher\",\"property price\"]]"
   ]
  },
  {
   "cell_type": "code",
   "execution_count": 172,
   "id": "d9eeb14c",
   "metadata": {},
   "outputs": [
    {
     "name": "stderr",
     "output_type": "stream",
     "text": [
      "/Users/sabbirahamedsaown/opt/anaconda3/lib/python3.9/site-packages/seaborn/_decorators.py:36: FutureWarning: Pass the following variables as keyword args: x, y. From version 0.12, the only valid positional argument will be `data`, and passing other arguments without an explicit keyword will result in an error or misinterpretation.\n",
      "  warnings.warn(\n"
     ]
    },
    {
     "data": {
      "text/plain": [
       "<AxesSubplot:xlabel='property price', ylabel='number of pupils per teacher'>"
      ]
     },
     "execution_count": 172,
     "metadata": {},
     "output_type": "execute_result"
    },
    {
     "data": {
      "image/png": "[encoded data removed]",
      "text/plain": [
       "<Figure size 432x288 with 1 Axes>"
      ]
     },
     "metadata": {
      "needs_background": "light"
     },
     "output_type": "display_data"
    }
   ],
   "source": [
    "sns.regplot(data.iloc[8:14]['property price'],data.iloc[8:14]['number of pupils per teacher'],color='Blue')"
   ]
  },
  {
   "cell_type": "markdown",
   "id": "09fe6f34",
   "metadata": {},
   "source": [
    "Because the correlation coefficient in Hamilton is 0.802496, the graph above suggests that there is a moderate to significant link between property price and the number of rooms (on the data chart above). This means that the number of rooms has a moderate to large impact on Hamilton real estate prices.\n",
    "\n",
    "\n",
    "After going through five correlation, we can say that the property prices of Hamilton mostly depends on property tax per year and the number of pupils per teacher.\n",
    "\n",
    "\n",
    "To give more analysis about the data, we can use the empiricial law"
   ]
  },
  {
   "cell_type": "markdown",
   "id": "305af9f9",
   "metadata": {},
   "source": [
    "# Property price distribution(Hamilton)"
   ]
  },
  {
   "cell_type": "markdown",
   "id": "19abba99",
   "metadata": {},
   "source": [
    "To find the probability property price distribution for Hamilton, we can use the empiricial rule and later use  the gaussian curve to make the data more understandable to the reader.\n",
    "\n",
    "to code below showaa the empricial values of property prices in Hamilton."
   ]
  },
  {
   "cell_type": "code",
   "execution_count": 239,
   "id": "94bffb18",
   "metadata": {},
   "outputs": [
    {
     "name": "stdout",
     "output_type": "stream",
     "text": [
      "68% of the prices fall within (16382.629225, 27350.704109000002)\n",
      "95% of the prices fall within (10898.591783000002, 27350.704109000002)\n",
      "99.7% of the prices fall within (5414.554341000003, 38318.778993)\n"
     ]
    }
   ],
   "source": [
    "mean =21866.666667\n",
    "std=5484.037442\n",
    "print('68% of the prices fall within',(mean-std,mean+std))\n",
    "print('95% of the prices fall within',(mean-2*std,mean+std))\n",
    "print('99.7% of the prices fall within',(mean-3*std,mean+3*std))"
   ]
  },
  {
   "cell_type": "markdown",
   "id": "4e128ea6",
   "metadata": {},
   "source": [
    "From the calculation above we can say that property prices of Hamilton falls under two  standard deviations. We can say that there is outliers in the propert prices.\n",
    "\n",
    "Now we can draw the gaussian curve to findout if the prices are scattered around mean:"
   ]
  },
  {
   "cell_type": "code",
   "execution_count": 174,
   "id": "776edad7",
   "metadata": {},
   "outputs": [
    {
     "data": {
      "text/plain": [
       "[<matplotlib.lines.Line2D at 0x7f7f6a94e1f0>]"
      ]
     },
     "execution_count": 174,
     "metadata": {},
     "output_type": "execute_result"
    },
    {
     "data": {
      "image/png": "[encoded data removed]",
      "text/plain": [
       "<Figure size 432x288 with 1 Axes>"
      ]
     },
     "metadata": {
      "needs_background": "light"
     },
     "output_type": "display_data"
    }
   ],
   "source": [
    "a=np.arange(-85000,85000,0.5)\n",
    "plt.plot(a,norm.pdf(a,21866.666667,5484.037442),color='green',linewidth=5)"
   ]
  },
  {
   "cell_type": "code",
   "execution_count": 31,
   "id": "165a8e54",
   "metadata": {},
   "outputs": [
    {
     "data": {
      "text/plain": [
       "0.9921292264253047"
      ]
     },
     "execution_count": 31,
     "metadata": {},
     "output_type": "execute_result"
    }
   ],
   "source": [
    "skew(data.iloc[8:14]['property price'],bias=False)"
   ]
  },
  {
   "cell_type": "code",
   "execution_count": 33,
   "id": "d396725b",
   "metadata": {},
   "outputs": [
    {
     "data": {
      "text/plain": [
       "2.3855840336664307"
      ]
     },
     "execution_count": 33,
     "metadata": {},
     "output_type": "execute_result"
    }
   ],
   "source": [
    "kurtosis(data.iloc[8:14]['property price'],fisher=False)"
   ]
  },
  {
   "cell_type": "markdown",
   "id": "9d6ba894",
   "metadata": {},
   "source": [
    "The gaussian curve gives us positive skewdness and positive kurtosis.\n",
    " \n",
    " A positive skewed refers to the price being more than median price. The mean and median will be greater than the mode. the distribution of price will be longer or fatter.\n",
    " \n",
    " And the positive kurtosis refers that there are property prices which are more than the mean price.So,There could be huge losses in this particular regard because of the properties being priced over the mean price"
   ]
  },
  {
   "cell_type": "markdown",
   "id": "3356ca2e",
   "metadata": {},
   "source": [
    "## conclusion\n",
    " After analysing and doing numerical calculations of 5 parameters, we can say that property prices of the town of Hamilton depends on tax per year and the number of pupils per teacher. After in-depth analysis, we can also say that there are chances of heavy losses on real estate investment in the town of hamilton"
   ]
  },
  {
   "cell_type": "markdown",
   "id": "2cf7bd6c",
   "metadata": {},
   "source": [
    "* # Numerical analysis for Lexington"
   ]
  },
  {
   "cell_type": "markdown",
   "id": "be61f348",
   "metadata": {},
   "source": [
    "The table below shows us the information "
   ]
  },
  {
   "cell_type": "code",
   "execution_count": 177,
   "id": "a6bb9c1f",
   "metadata": {},
   "outputs": [
    {
     "data": {
      "text/html": [
       "<div>\n",
       "<style scoped>\n",
       "    .dataframe tbody tr th:only-of-type {\n",
       "        vertical-align: middle;\n",
       "    }\n",
       "\n",
       "    .dataframe tbody tr th {\n",
       "        vertical-align: top;\n",
       "    }\n",
       "\n",
       "    .dataframe thead th {\n",
       "        text-align: right;\n",
       "    }\n",
       "</style>\n",
       "<table border=\"1\" class=\"dataframe\">\n",
       "  <thead>\n",
       "    <tr style=\"text-align: right;\">\n",
       "      <th></th>\n",
       "      <th>TOWN/VILLAGE</th>\n",
       "      <th>number of rooms</th>\n",
       "      <th>age of property</th>\n",
       "      <th>distance to nearest town centre</th>\n",
       "      <th>property tax per year</th>\n",
       "      <th>number of pupils per teacher</th>\n",
       "      <th>property price</th>\n",
       "    </tr>\n",
       "  </thead>\n",
       "  <tbody>\n",
       "    <tr>\n",
       "      <th>15</th>\n",
       "      <td>Lexington</td>\n",
       "      <td>7</td>\n",
       "      <td>29</td>\n",
       "      <td>4.57</td>\n",
       "      <td>1186.04</td>\n",
       "      <td>15</td>\n",
       "      <td>29800</td>\n",
       "    </tr>\n",
       "    <tr>\n",
       "      <th>16</th>\n",
       "      <td>Lexington</td>\n",
       "      <td>7</td>\n",
       "      <td>39</td>\n",
       "      <td>4.57</td>\n",
       "      <td>1389.02</td>\n",
       "      <td>15</td>\n",
       "      <td>34900</td>\n",
       "    </tr>\n",
       "    <tr>\n",
       "      <th>17</th>\n",
       "      <td>Lexington</td>\n",
       "      <td>7</td>\n",
       "      <td>22</td>\n",
       "      <td>6.48</td>\n",
       "      <td>1472.60</td>\n",
       "      <td>15</td>\n",
       "      <td>37000</td>\n",
       "    </tr>\n",
       "    <tr>\n",
       "      <th>18</th>\n",
       "      <td>Lexington</td>\n",
       "      <td>7</td>\n",
       "      <td>31</td>\n",
       "      <td>6.48</td>\n",
       "      <td>1213.90</td>\n",
       "      <td>15</td>\n",
       "      <td>30500</td>\n",
       "    </tr>\n",
       "    <tr>\n",
       "      <th>19</th>\n",
       "      <td>Lexington</td>\n",
       "      <td>7</td>\n",
       "      <td>26</td>\n",
       "      <td>6.48</td>\n",
       "      <td>1448.72</td>\n",
       "      <td>15</td>\n",
       "      <td>36400</td>\n",
       "    </tr>\n",
       "    <tr>\n",
       "      <th>20</th>\n",
       "      <td>Lexington</td>\n",
       "      <td>8</td>\n",
       "      <td>32</td>\n",
       "      <td>5.65</td>\n",
       "      <td>1275.00</td>\n",
       "      <td>14</td>\n",
       "      <td>50000</td>\n",
       "    </tr>\n",
       "  </tbody>\n",
       "</table>\n",
       "</div>"
      ],
      "text/plain": [
       "   TOWN/VILLAGE  number of rooms  age of property  \\\n",
       "15    Lexington                7               29   \n",
       "16    Lexington                7               39   \n",
       "17    Lexington                7               22   \n",
       "18    Lexington                7               31   \n",
       "19    Lexington                7               26   \n",
       "20    Lexington                8               32   \n",
       "\n",
       "    distance to nearest town centre  property tax per year  \\\n",
       "15                             4.57                1186.04   \n",
       "16                             4.57                1389.02   \n",
       "17                             6.48                1472.60   \n",
       "18                             6.48                1213.90   \n",
       "19                             6.48                1448.72   \n",
       "20                             5.65                1275.00   \n",
       "\n",
       "    number of pupils per teacher  property price  \n",
       "15                            15           29800  \n",
       "16                            15           34900  \n",
       "17                            15           37000  \n",
       "18                            15           30500  \n",
       "19                            15           36400  \n",
       "20                            14           50000  "
      ]
     },
     "execution_count": 177,
     "metadata": {},
     "output_type": "execute_result"
    }
   ],
   "source": [
    "data.iloc[15:21]"
   ]
  },
  {
   "cell_type": "code",
   "execution_count": 178,
   "id": "e4e31de7",
   "metadata": {},
   "outputs": [
    {
     "data": {
      "text/html": [
       "<div>\n",
       "<style scoped>\n",
       "    .dataframe tbody tr th:only-of-type {\n",
       "        vertical-align: middle;\n",
       "    }\n",
       "\n",
       "    .dataframe tbody tr th {\n",
       "        vertical-align: top;\n",
       "    }\n",
       "\n",
       "    .dataframe thead th {\n",
       "        text-align: right;\n",
       "    }\n",
       "</style>\n",
       "<table border=\"1\" class=\"dataframe\">\n",
       "  <thead>\n",
       "    <tr style=\"text-align: right;\">\n",
       "      <th></th>\n",
       "      <th>number of rooms</th>\n",
       "      <th>age of property</th>\n",
       "      <th>distance to nearest town centre</th>\n",
       "      <th>property tax per year</th>\n",
       "      <th>number of pupils per teacher</th>\n",
       "      <th>property price</th>\n",
       "    </tr>\n",
       "  </thead>\n",
       "  <tbody>\n",
       "    <tr>\n",
       "      <th>count</th>\n",
       "      <td>6.000000</td>\n",
       "      <td>6.000000</td>\n",
       "      <td>6.000000</td>\n",
       "      <td>6.000000</td>\n",
       "      <td>6.000000</td>\n",
       "      <td>6.000000</td>\n",
       "    </tr>\n",
       "    <tr>\n",
       "      <th>mean</th>\n",
       "      <td>7.166667</td>\n",
       "      <td>29.833333</td>\n",
       "      <td>5.705000</td>\n",
       "      <td>1330.880000</td>\n",
       "      <td>14.833333</td>\n",
       "      <td>36433.333333</td>\n",
       "    </tr>\n",
       "    <tr>\n",
       "      <th>std</th>\n",
       "      <td>0.408248</td>\n",
       "      <td>5.776389</td>\n",
       "      <td>0.936093</td>\n",
       "      <td>122.585973</td>\n",
       "      <td>0.408248</td>\n",
       "      <td>7292.918940</td>\n",
       "    </tr>\n",
       "    <tr>\n",
       "      <th>min</th>\n",
       "      <td>7.000000</td>\n",
       "      <td>22.000000</td>\n",
       "      <td>4.570000</td>\n",
       "      <td>1186.040000</td>\n",
       "      <td>14.000000</td>\n",
       "      <td>29800.000000</td>\n",
       "    </tr>\n",
       "    <tr>\n",
       "      <th>25%</th>\n",
       "      <td>7.000000</td>\n",
       "      <td>26.750000</td>\n",
       "      <td>4.840000</td>\n",
       "      <td>1229.175000</td>\n",
       "      <td>15.000000</td>\n",
       "      <td>31600.000000</td>\n",
       "    </tr>\n",
       "    <tr>\n",
       "      <th>50%</th>\n",
       "      <td>7.000000</td>\n",
       "      <td>30.000000</td>\n",
       "      <td>6.065000</td>\n",
       "      <td>1332.010000</td>\n",
       "      <td>15.000000</td>\n",
       "      <td>35650.000000</td>\n",
       "    </tr>\n",
       "    <tr>\n",
       "      <th>75%</th>\n",
       "      <td>7.000000</td>\n",
       "      <td>31.750000</td>\n",
       "      <td>6.480000</td>\n",
       "      <td>1433.795000</td>\n",
       "      <td>15.000000</td>\n",
       "      <td>36850.000000</td>\n",
       "    </tr>\n",
       "    <tr>\n",
       "      <th>max</th>\n",
       "      <td>8.000000</td>\n",
       "      <td>39.000000</td>\n",
       "      <td>6.480000</td>\n",
       "      <td>1472.600000</td>\n",
       "      <td>15.000000</td>\n",
       "      <td>50000.000000</td>\n",
       "    </tr>\n",
       "  </tbody>\n",
       "</table>\n",
       "</div>"
      ],
      "text/plain": [
       "       number of rooms  age of property  distance to nearest town centre  \\\n",
       "count         6.000000         6.000000                         6.000000   \n",
       "mean          7.166667        29.833333                         5.705000   \n",
       "std           0.408248         5.776389                         0.936093   \n",
       "min           7.000000        22.000000                         4.570000   \n",
       "25%           7.000000        26.750000                         4.840000   \n",
       "50%           7.000000        30.000000                         6.065000   \n",
       "75%           7.000000        31.750000                         6.480000   \n",
       "max           8.000000        39.000000                         6.480000   \n",
       "\n",
       "       property tax per year  number of pupils per teacher  property price  \n",
       "count               6.000000                      6.000000        6.000000  \n",
       "mean             1330.880000                     14.833333    36433.333333  \n",
       "std               122.585973                      0.408248     7292.918940  \n",
       "min              1186.040000                     14.000000    29800.000000  \n",
       "25%              1229.175000                     15.000000    31600.000000  \n",
       "50%              1332.010000                     15.000000    35650.000000  \n",
       "75%              1433.795000                     15.000000    36850.000000  \n",
       "max              1472.600000                     15.000000    50000.000000  "
      ]
     },
     "execution_count": 178,
     "metadata": {},
     "output_type": "execute_result"
    }
   ],
   "source": [
    "data.iloc[15:21].describe()"
   ]
  },
  {
   "cell_type": "code",
   "execution_count": 179,
   "id": "069fc26f",
   "metadata": {},
   "outputs": [
    {
     "data": {
      "text/plain": [
       "count        6.000000\n",
       "mean     36433.333333\n",
       "std       7292.918940\n",
       "min      29800.000000\n",
       "25%      31600.000000\n",
       "50%      35650.000000\n",
       "75%      36850.000000\n",
       "max      50000.000000\n",
       "Name: property price, dtype: float64"
      ]
     },
     "execution_count": 179,
     "metadata": {},
     "output_type": "execute_result"
    }
   ],
   "source": [
    "data.iloc[15:21]['property price'].describe()"
   ]
  },
  {
   "cell_type": "markdown",
   "id": "b85ca5d3",
   "metadata": {},
   "source": [
    "The above calculation describe doesn't include interquartile range, variance,range,so in the following cell, we will perform it"
   ]
  },
  {
   "cell_type": "code",
   "execution_count": 180,
   "id": "6d33cf67",
   "metadata": {},
   "outputs": [
    {
     "name": "stdout",
     "output_type": "stream",
     "text": [
      "44725.0\n",
      "23725.0\n",
      "20200\n"
     ]
    },
    {
     "data": {
      "text/plain": [
       "44322222.222222224"
      ]
     },
     "execution_count": 180,
     "metadata": {},
     "output_type": "execute_result"
    }
   ],
   "source": [
    "interquartile_range =(36850-31600)\n",
    "#we know that ,range= max value - min value\n",
    "range =(50000-29800)\n",
    "# upper outlier = upper quartile+(1.5*Interquartile range)\n",
    "upper_outlier=36850+(1.5*interquartile_range)\n",
    "# lower outlier = lower quartile-(1.5*Interquartile range)\n",
    "lower_outlier=31600-(1.5*interquartile_range)\n",
    "#variance\n",
    "print(upper_outlier)\n",
    "print(lower_outlier)\n",
    "print(range)\n",
    "np.var(data.iloc[15:21]['property price'])"
   ]
  },
  {
   "cell_type": "code",
   "execution_count": 181,
   "id": "9cacaa3e",
   "metadata": {},
   "outputs": [
    {
     "data": {
      "text/plain": [
       "36433.333333333336"
      ]
     },
     "execution_count": 181,
     "metadata": {},
     "output_type": "execute_result"
    }
   ],
   "source": [
    "data.iloc[15:21]['property price'].mean()"
   ]
  },
  {
   "cell_type": "code",
   "execution_count": 182,
   "id": "db15fae1",
   "metadata": {},
   "outputs": [
    {
     "data": {
      "text/plain": [
       "35650.0"
      ]
     },
     "execution_count": 182,
     "metadata": {},
     "output_type": "execute_result"
    }
   ],
   "source": [
    "data.iloc[15:21]['property price'].median()"
   ]
  },
  {
   "cell_type": "code",
   "execution_count": 183,
   "id": "eb3b02ad",
   "metadata": {},
   "outputs": [
    {
     "data": {
      "text/plain": [
       "<AxesSubplot:>"
      ]
     },
     "execution_count": 183,
     "metadata": {},
     "output_type": "execute_result"
    },
    {
     "data": {
      "image/png": "[encoded data removed]",
      "text/plain": [
       "<Figure size 1008x432 with 1 Axes>"
      ]
     },
     "metadata": {
      "needs_background": "light"
     },
     "output_type": "display_data"
    }
   ],
   "source": [
    "data.iloc[15:21]['property price'].plot(kind='box',vert=False,figsize=(14,6),color='Green')"
   ]
  },
  {
   "cell_type": "markdown",
   "id": "b7a8cc54",
   "metadata": {},
   "source": [
    "Above boxplot and the data shows there are  outliers in the property prices in Farmingham. There are properties, Which are priced higher above 50000 and lower than 29800.\n",
    "The range of 8600.00 shows the prices of properties in farmingham varies vastly and the standard deviation from the data also indicates large variation of data and the large variance (44322222.222222224) also confirms that.\n",
    "The table below shows the Correlation between the data and the Graph "
   ]
  },
  {
   "cell_type": "code",
   "execution_count": 6,
   "id": "5f8137de",
   "metadata": {},
   "outputs": [
    {
     "data": {
      "text/html": [
       "<div>\n",
       "<style scoped>\n",
       "    .dataframe tbody tr th:only-of-type {\n",
       "        vertical-align: middle;\n",
       "    }\n",
       "\n",
       "    .dataframe tbody tr th {\n",
       "        vertical-align: top;\n",
       "    }\n",
       "\n",
       "    .dataframe thead th {\n",
       "        text-align: right;\n",
       "    }\n",
       "</style>\n",
       "<table border=\"1\" class=\"dataframe\">\n",
       "  <thead>\n",
       "    <tr style=\"text-align: right;\">\n",
       "      <th></th>\n",
       "      <th>number of rooms</th>\n",
       "      <th>age of property</th>\n",
       "      <th>distance to nearest town centre</th>\n",
       "      <th>property tax per year</th>\n",
       "      <th>number of pupils per teacher</th>\n",
       "      <th>property price</th>\n",
       "    </tr>\n",
       "  </thead>\n",
       "  <tbody>\n",
       "    <tr>\n",
       "      <th>number of rooms</th>\n",
       "      <td>1.000000</td>\n",
       "      <td>0.183756</td>\n",
       "      <td>-0.028784</td>\n",
       "      <td>-0.223317</td>\n",
       "      <td>-1.000000</td>\n",
       "      <td>0.911334</td>\n",
       "    </tr>\n",
       "    <tr>\n",
       "      <th>age of property</th>\n",
       "      <td>0.183756</td>\n",
       "      <td>1.000000</td>\n",
       "      <td>-0.655233</td>\n",
       "      <td>-0.329262</td>\n",
       "      <td>-0.183756</td>\n",
       "      <td>0.045735</td>\n",
       "    </tr>\n",
       "    <tr>\n",
       "      <th>distance to nearest town centre</th>\n",
       "      <td>-0.028784</td>\n",
       "      <td>-0.655233</td>\n",
       "      <td>1.000000</td>\n",
       "      <td>0.369454</td>\n",
       "      <td>0.028784</td>\n",
       "      <td>0.127086</td>\n",
       "    </tr>\n",
       "    <tr>\n",
       "      <th>property tax per year</th>\n",
       "      <td>-0.223317</td>\n",
       "      <td>-0.329262</td>\n",
       "      <td>0.369454</td>\n",
       "      <td>1.000000</td>\n",
       "      <td>0.223317</td>\n",
       "      <td>0.197756</td>\n",
       "    </tr>\n",
       "    <tr>\n",
       "      <th>number of pupils per teacher</th>\n",
       "      <td>-1.000000</td>\n",
       "      <td>-0.183756</td>\n",
       "      <td>0.028784</td>\n",
       "      <td>0.223317</td>\n",
       "      <td>1.000000</td>\n",
       "      <td>-0.911334</td>\n",
       "    </tr>\n",
       "    <tr>\n",
       "      <th>property price</th>\n",
       "      <td>0.911334</td>\n",
       "      <td>0.045735</td>\n",
       "      <td>0.127086</td>\n",
       "      <td>0.197756</td>\n",
       "      <td>-0.911334</td>\n",
       "      <td>1.000000</td>\n",
       "    </tr>\n",
       "  </tbody>\n",
       "</table>\n",
       "</div>"
      ],
      "text/plain": [
       "                                 number of rooms  age of property  \\\n",
       "number of rooms                         1.000000         0.183756   \n",
       "age of property                         0.183756         1.000000   \n",
       "distance to nearest town centre        -0.028784        -0.655233   \n",
       "property tax per year                  -0.223317        -0.329262   \n",
       "number of pupils per teacher           -1.000000        -0.183756   \n",
       "property price                          0.911334         0.045735   \n",
       "\n",
       "                                 distance to nearest town centre  \\\n",
       "number of rooms                                        -0.028784   \n",
       "age of property                                        -0.655233   \n",
       "distance to nearest town centre                         1.000000   \n",
       "property tax per year                                   0.369454   \n",
       "number of pupils per teacher                            0.028784   \n",
       "property price                                          0.127086   \n",
       "\n",
       "                                 property tax per year  \\\n",
       "number of rooms                              -0.223317   \n",
       "age of property                              -0.329262   \n",
       "distance to nearest town centre               0.369454   \n",
       "property tax per year                         1.000000   \n",
       "number of pupils per teacher                  0.223317   \n",
       "property price                                0.197756   \n",
       "\n",
       "                                 number of pupils per teacher  property price  \n",
       "number of rooms                                     -1.000000        0.911334  \n",
       "age of property                                     -0.183756        0.045735  \n",
       "distance to nearest town centre                      0.028784        0.127086  \n",
       "property tax per year                                0.223317        0.197756  \n",
       "number of pupils per teacher                         1.000000       -0.911334  \n",
       "property price                                      -0.911334        1.000000  "
      ]
     },
     "execution_count": 6,
     "metadata": {},
     "output_type": "execute_result"
    }
   ],
   "source": [
    "corre_Lexington=data.iloc[15:21].corr()\n",
    "corre_Lexington"
   ]
  },
  {
   "cell_type": "markdown",
   "id": "e2dd59a3",
   "metadata": {},
   "source": [
    "In the next cells , we'll give an in-depth analysis of each parameter against the property price to show which one affects the Farmingham property prices"
   ]
  },
  {
   "cell_type": "code",
   "execution_count": 185,
   "id": "3ccfd7bf",
   "metadata": {},
   "outputs": [
    {
     "data": {
      "text/html": [
       "<div>\n",
       "<style scoped>\n",
       "    .dataframe tbody tr th:only-of-type {\n",
       "        vertical-align: middle;\n",
       "    }\n",
       "\n",
       "    .dataframe tbody tr th {\n",
       "        vertical-align: top;\n",
       "    }\n",
       "\n",
       "    .dataframe thead th {\n",
       "        text-align: right;\n",
       "    }\n",
       "</style>\n",
       "<table border=\"1\" class=\"dataframe\">\n",
       "  <thead>\n",
       "    <tr style=\"text-align: right;\">\n",
       "      <th></th>\n",
       "      <th>number of rooms</th>\n",
       "      <th>property price</th>\n",
       "    </tr>\n",
       "  </thead>\n",
       "  <tbody>\n",
       "    <tr>\n",
       "      <th>15</th>\n",
       "      <td>7</td>\n",
       "      <td>29800</td>\n",
       "    </tr>\n",
       "    <tr>\n",
       "      <th>16</th>\n",
       "      <td>7</td>\n",
       "      <td>34900</td>\n",
       "    </tr>\n",
       "    <tr>\n",
       "      <th>17</th>\n",
       "      <td>7</td>\n",
       "      <td>37000</td>\n",
       "    </tr>\n",
       "    <tr>\n",
       "      <th>18</th>\n",
       "      <td>7</td>\n",
       "      <td>30500</td>\n",
       "    </tr>\n",
       "    <tr>\n",
       "      <th>19</th>\n",
       "      <td>7</td>\n",
       "      <td>36400</td>\n",
       "    </tr>\n",
       "    <tr>\n",
       "      <th>20</th>\n",
       "      <td>8</td>\n",
       "      <td>50000</td>\n",
       "    </tr>\n",
       "  </tbody>\n",
       "</table>\n",
       "</div>"
      ],
      "text/plain": [
       "    number of rooms  property price\n",
       "15                7           29800\n",
       "16                7           34900\n",
       "17                7           37000\n",
       "18                7           30500\n",
       "19                7           36400\n",
       "20                8           50000"
      ]
     },
     "execution_count": 185,
     "metadata": {},
     "output_type": "execute_result"
    }
   ],
   "source": [
    "data.iloc[15:21][[\"number of rooms\",\"property price\"]]"
   ]
  },
  {
   "cell_type": "code",
   "execution_count": 16,
   "id": "b3c52df7",
   "metadata": {},
   "outputs": [
    {
     "data": {
      "image/png": "[encoded data removed]",
      "text/plain": [
       "<Figure size 432x288 with 1 Axes>"
      ]
     },
     "metadata": {
      "needs_background": "light"
     },
     "output_type": "display_data"
    }
   ],
   "source": [
    "data.plot(x ='property price', y='number of rooms', kind='scatter')\n",
    "plt.show()"
   ]
  },
  {
   "cell_type": "code",
   "execution_count": 14,
   "id": "0bd3fca2",
   "metadata": {},
   "outputs": [
    {
     "name": "stderr",
     "output_type": "stream",
     "text": [
      "/Users/sabbirahamedsaown/opt/anaconda3/lib/python3.9/site-packages/seaborn/_decorators.py:36: FutureWarning: Pass the following variables as keyword args: x, y. From version 0.12, the only valid positional argument will be `data`, and passing other arguments without an explicit keyword will result in an error or misinterpretation.\n",
      "  warnings.warn(\n"
     ]
    },
    {
     "data": {
      "text/plain": [
       "<AxesSubplot:xlabel='property price', ylabel='number of rooms'>"
      ]
     },
     "execution_count": 14,
     "metadata": {},
     "output_type": "execute_result"
    },
    {
     "data": {
      "image/png": "[encoded data removed]",
      "text/plain": [
       "<Figure size 432x288 with 1 Axes>"
      ]
     },
     "metadata": {
      "needs_background": "light"
     },
     "output_type": "display_data"
    }
   ],
   "source": [
    "sns.regplot(data.iloc[15:21]['property price'],data.iloc[15:21]['number of rooms'],color='black')"
   ]
  },
  {
   "cell_type": "code",
   "execution_count": 190,
   "id": "5468c895",
   "metadata": {},
   "outputs": [
    {
     "data": {
      "text/html": [
       "<div>\n",
       "<style scoped>\n",
       "    .dataframe tbody tr th:only-of-type {\n",
       "        vertical-align: middle;\n",
       "    }\n",
       "\n",
       "    .dataframe tbody tr th {\n",
       "        vertical-align: top;\n",
       "    }\n",
       "\n",
       "    .dataframe thead th {\n",
       "        text-align: right;\n",
       "    }\n",
       "</style>\n",
       "<table border=\"1\" class=\"dataframe\">\n",
       "  <thead>\n",
       "    <tr style=\"text-align: right;\">\n",
       "      <th></th>\n",
       "      <th>property price</th>\n",
       "      <th>age of property</th>\n",
       "    </tr>\n",
       "  </thead>\n",
       "  <tbody>\n",
       "    <tr>\n",
       "      <th>15</th>\n",
       "      <td>29800</td>\n",
       "      <td>29</td>\n",
       "    </tr>\n",
       "    <tr>\n",
       "      <th>16</th>\n",
       "      <td>34900</td>\n",
       "      <td>39</td>\n",
       "    </tr>\n",
       "    <tr>\n",
       "      <th>17</th>\n",
       "      <td>37000</td>\n",
       "      <td>22</td>\n",
       "    </tr>\n",
       "    <tr>\n",
       "      <th>18</th>\n",
       "      <td>30500</td>\n",
       "      <td>31</td>\n",
       "    </tr>\n",
       "    <tr>\n",
       "      <th>19</th>\n",
       "      <td>36400</td>\n",
       "      <td>26</td>\n",
       "    </tr>\n",
       "    <tr>\n",
       "      <th>20</th>\n",
       "      <td>50000</td>\n",
       "      <td>32</td>\n",
       "    </tr>\n",
       "  </tbody>\n",
       "</table>\n",
       "</div>"
      ],
      "text/plain": [
       "    property price  age of property\n",
       "15           29800               29\n",
       "16           34900               39\n",
       "17           37000               22\n",
       "18           30500               31\n",
       "19           36400               26\n",
       "20           50000               32"
      ]
     },
     "execution_count": 190,
     "metadata": {},
     "output_type": "execute_result"
    }
   ],
   "source": [
    "data.iloc[15:21][['property price','age of property']]"
   ]
  },
  {
   "cell_type": "code",
   "execution_count": 20,
   "id": "ec277e40",
   "metadata": {},
   "outputs": [
    {
     "data": {
      "text/plain": [
       "Text(0.5, 0, 'age of property')"
      ]
     },
     "execution_count": 20,
     "metadata": {},
     "output_type": "execute_result"
    },
    {
     "data": {
      "image/png": "[encoded data removed]",
      "text/plain": [
       "<Figure size 1080x504 with 1 Axes>"
      ]
     },
     "metadata": {
      "needs_background": "light"
     },
     "output_type": "display_data"
    }
   ],
   "source": [
    "data.iloc[15:21]['property price'].plot(figsize=(15,7),color=\"Green\")\n",
    "plt.title(\"Property Price in Lexington\")\n",
    "plt.ylabel(\"property price\")\n",
    "plt.xlabel(\"age of property\")"
   ]
  },
  {
   "cell_type": "code",
   "execution_count": 201,
   "id": "9ea5cf8f",
   "metadata": {},
   "outputs": [
    {
     "name": "stderr",
     "output_type": "stream",
     "text": [
      "/Users/sabbirahamedsaown/opt/anaconda3/lib/python3.9/site-packages/seaborn/_decorators.py:36: FutureWarning: Pass the following variables as keyword args: x, y. From version 0.12, the only valid positional argument will be `data`, and passing other arguments without an explicit keyword will result in an error or misinterpretation.\n",
      "  warnings.warn(\n"
     ]
    },
    {
     "data": {
      "text/plain": [
       "<AxesSubplot:xlabel='property price', ylabel='age of property'>"
      ]
     },
     "execution_count": 201,
     "metadata": {},
     "output_type": "execute_result"
    },
    {
     "data": {
      "image/png": "[encoded data removed]",
      "text/plain": [
       "<Figure size 432x288 with 1 Axes>"
      ]
     },
     "metadata": {
      "needs_background": "light"
     },
     "output_type": "display_data"
    }
   ],
   "source": [
    "sns.regplot(data.iloc[15:21]['property price'],data.iloc[15:21]['age of property'],color='Green')"
   ]
  },
  {
   "cell_type": "markdown",
   "id": "7b308c44",
   "metadata": {},
   "source": [
    "The above graph shows the correlation between property price and the age of the property. The correlation coefficient is 0.045735. Which indicates a moderate correlation"
   ]
  },
  {
   "cell_type": "code",
   "execution_count": 203,
   "id": "53a7908d",
   "metadata": {},
   "outputs": [
    {
     "data": {
      "text/html": [
       "<div>\n",
       "<style scoped>\n",
       "    .dataframe tbody tr th:only-of-type {\n",
       "        vertical-align: middle;\n",
       "    }\n",
       "\n",
       "    .dataframe tbody tr th {\n",
       "        vertical-align: top;\n",
       "    }\n",
       "\n",
       "    .dataframe thead th {\n",
       "        text-align: right;\n",
       "    }\n",
       "</style>\n",
       "<table border=\"1\" class=\"dataframe\">\n",
       "  <thead>\n",
       "    <tr style=\"text-align: right;\">\n",
       "      <th></th>\n",
       "      <th>property price</th>\n",
       "      <th>distance to nearest town centre</th>\n",
       "    </tr>\n",
       "  </thead>\n",
       "  <tbody>\n",
       "    <tr>\n",
       "      <th>15</th>\n",
       "      <td>29800</td>\n",
       "      <td>4.57</td>\n",
       "    </tr>\n",
       "    <tr>\n",
       "      <th>16</th>\n",
       "      <td>34900</td>\n",
       "      <td>4.57</td>\n",
       "    </tr>\n",
       "    <tr>\n",
       "      <th>17</th>\n",
       "      <td>37000</td>\n",
       "      <td>6.48</td>\n",
       "    </tr>\n",
       "    <tr>\n",
       "      <th>18</th>\n",
       "      <td>30500</td>\n",
       "      <td>6.48</td>\n",
       "    </tr>\n",
       "    <tr>\n",
       "      <th>19</th>\n",
       "      <td>36400</td>\n",
       "      <td>6.48</td>\n",
       "    </tr>\n",
       "    <tr>\n",
       "      <th>20</th>\n",
       "      <td>50000</td>\n",
       "      <td>5.65</td>\n",
       "    </tr>\n",
       "  </tbody>\n",
       "</table>\n",
       "</div>"
      ],
      "text/plain": [
       "    property price  distance to nearest town centre\n",
       "15           29800                             4.57\n",
       "16           34900                             4.57\n",
       "17           37000                             6.48\n",
       "18           30500                             6.48\n",
       "19           36400                             6.48\n",
       "20           50000                             5.65"
      ]
     },
     "execution_count": 203,
     "metadata": {},
     "output_type": "execute_result"
    }
   ],
   "source": [
    "data.iloc[15:21][[\"property price\",\"distance to nearest town centre\"]]"
   ]
  },
  {
   "cell_type": "code",
   "execution_count": 34,
   "id": "94504156",
   "metadata": {},
   "outputs": [
    {
     "data": {
      "text/plain": [
       "<AxesSubplot:>"
      ]
     },
     "execution_count": 34,
     "metadata": {},
     "output_type": "execute_result"
    },
    {
     "data": {
      "image/png": "[encoded data removed]",
      "text/plain": [
       "<Figure size 432x288 with 2 Axes>"
      ]
     },
     "metadata": {
      "needs_background": "light"
     },
     "output_type": "display_data"
    }
   ],
   "source": [
    "data_correlation= data.iloc[15:21].corr()\n",
    "sns.heatmap(data_correlation)"
   ]
  },
  {
   "cell_type": "markdown",
   "id": "8f2bdbdc",
   "metadata": {},
   "source": [
    "The heatmap shown above shows the correlation of the parameters with the property prices. we can see that there is a weak correlation between the distance to the nearest town centre and the property prices\n"
   ]
  },
  {
   "cell_type": "code",
   "execution_count": 205,
   "id": "9d65b24f",
   "metadata": {},
   "outputs": [
    {
     "data": {
      "text/html": [
       "<div>\n",
       "<style scoped>\n",
       "    .dataframe tbody tr th:only-of-type {\n",
       "        vertical-align: middle;\n",
       "    }\n",
       "\n",
       "    .dataframe tbody tr th {\n",
       "        vertical-align: top;\n",
       "    }\n",
       "\n",
       "    .dataframe thead th {\n",
       "        text-align: right;\n",
       "    }\n",
       "</style>\n",
       "<table border=\"1\" class=\"dataframe\">\n",
       "  <thead>\n",
       "    <tr style=\"text-align: right;\">\n",
       "      <th></th>\n",
       "      <th>property price</th>\n",
       "      <th>property tax per year</th>\n",
       "    </tr>\n",
       "  </thead>\n",
       "  <tbody>\n",
       "    <tr>\n",
       "      <th>15</th>\n",
       "      <td>29800</td>\n",
       "      <td>1186.04</td>\n",
       "    </tr>\n",
       "    <tr>\n",
       "      <th>16</th>\n",
       "      <td>34900</td>\n",
       "      <td>1389.02</td>\n",
       "    </tr>\n",
       "    <tr>\n",
       "      <th>17</th>\n",
       "      <td>37000</td>\n",
       "      <td>1472.60</td>\n",
       "    </tr>\n",
       "    <tr>\n",
       "      <th>18</th>\n",
       "      <td>30500</td>\n",
       "      <td>1213.90</td>\n",
       "    </tr>\n",
       "    <tr>\n",
       "      <th>19</th>\n",
       "      <td>36400</td>\n",
       "      <td>1448.72</td>\n",
       "    </tr>\n",
       "    <tr>\n",
       "      <th>20</th>\n",
       "      <td>50000</td>\n",
       "      <td>1275.00</td>\n",
       "    </tr>\n",
       "  </tbody>\n",
       "</table>\n",
       "</div>"
      ],
      "text/plain": [
       "    property price  property tax per year\n",
       "15           29800                1186.04\n",
       "16           34900                1389.02\n",
       "17           37000                1472.60\n",
       "18           30500                1213.90\n",
       "19           36400                1448.72\n",
       "20           50000                1275.00"
      ]
     },
     "execution_count": 205,
     "metadata": {},
     "output_type": "execute_result"
    }
   ],
   "source": [
    "data.iloc[15:21][['property price','property tax per year']]"
   ]
  },
  {
   "cell_type": "code",
   "execution_count": 208,
   "id": "aa263231",
   "metadata": {},
   "outputs": [
    {
     "name": "stderr",
     "output_type": "stream",
     "text": [
      "/Users/sabbirahamedsaown/opt/anaconda3/lib/python3.9/site-packages/seaborn/_decorators.py:36: FutureWarning: Pass the following variables as keyword args: x, y. From version 0.12, the only valid positional argument will be `data`, and passing other arguments without an explicit keyword will result in an error or misinterpretation.\n",
      "  warnings.warn(\n"
     ]
    },
    {
     "data": {
      "text/plain": [
       "<AxesSubplot:xlabel='property price', ylabel='property tax per year'>"
      ]
     },
     "execution_count": 208,
     "metadata": {},
     "output_type": "execute_result"
    },
    {
     "data": {
      "image/png": "[encoded data removed]",
      "text/plain": [
       "<Figure size 432x288 with 1 Axes>"
      ]
     },
     "metadata": {
      "needs_background": "light"
     },
     "output_type": "display_data"
    }
   ],
   "source": [
    "sns.regplot(data.iloc[15:21]['property price'],data.iloc[15:21]['property tax per year'],color='orange')"
   ]
  },
  {
   "cell_type": "code",
   "execution_count": 214,
   "id": "457372a4",
   "metadata": {},
   "outputs": [
    {
     "data": {
      "text/html": [
       "<div>\n",
       "<style scoped>\n",
       "    .dataframe tbody tr th:only-of-type {\n",
       "        vertical-align: middle;\n",
       "    }\n",
       "\n",
       "    .dataframe tbody tr th {\n",
       "        vertical-align: top;\n",
       "    }\n",
       "\n",
       "    .dataframe thead th {\n",
       "        text-align: right;\n",
       "    }\n",
       "</style>\n",
       "<table border=\"1\" class=\"dataframe\">\n",
       "  <thead>\n",
       "    <tr style=\"text-align: right;\">\n",
       "      <th></th>\n",
       "      <th>property price</th>\n",
       "      <th>number of pupils per teacher</th>\n",
       "    </tr>\n",
       "  </thead>\n",
       "  <tbody>\n",
       "    <tr>\n",
       "      <th>15</th>\n",
       "      <td>29800</td>\n",
       "      <td>15</td>\n",
       "    </tr>\n",
       "    <tr>\n",
       "      <th>16</th>\n",
       "      <td>34900</td>\n",
       "      <td>15</td>\n",
       "    </tr>\n",
       "    <tr>\n",
       "      <th>17</th>\n",
       "      <td>37000</td>\n",
       "      <td>15</td>\n",
       "    </tr>\n",
       "    <tr>\n",
       "      <th>18</th>\n",
       "      <td>30500</td>\n",
       "      <td>15</td>\n",
       "    </tr>\n",
       "    <tr>\n",
       "      <th>19</th>\n",
       "      <td>36400</td>\n",
       "      <td>15</td>\n",
       "    </tr>\n",
       "    <tr>\n",
       "      <th>20</th>\n",
       "      <td>50000</td>\n",
       "      <td>14</td>\n",
       "    </tr>\n",
       "  </tbody>\n",
       "</table>\n",
       "</div>"
      ],
      "text/plain": [
       "    property price  number of pupils per teacher\n",
       "15           29800                            15\n",
       "16           34900                            15\n",
       "17           37000                            15\n",
       "18           30500                            15\n",
       "19           36400                            15\n",
       "20           50000                            14"
      ]
     },
     "execution_count": 214,
     "metadata": {},
     "output_type": "execute_result"
    }
   ],
   "source": [
    "data.iloc[15:21][[\"property price\",\"number of pupils per teacher\"]]"
   ]
  },
  {
   "cell_type": "code",
   "execution_count": 39,
   "id": "cd833eec",
   "metadata": {},
   "outputs": [
    {
     "data": {
      "image/png": "[encoded data removed]",
      "text/plain": [
       "<Figure size 432x288 with 1 Axes>"
      ]
     },
     "metadata": {},
     "output_type": "display_data"
    }
   ],
   "source": [
    "number_of_pupils_per_teacher= np.array([15, 15, 15, 15,15,14])\n",
    "property_price=np.array([29800,34900,37000,30500,36400,50000])\n",
    "plt.pie(number_of_pupils_per_teacher)\n",
    "plt.pie(property_price)\n",
    "plt.show() "
   ]
  },
  {
   "cell_type": "code",
   "execution_count": 215,
   "id": "743ab96f",
   "metadata": {},
   "outputs": [
    {
     "name": "stderr",
     "output_type": "stream",
     "text": [
      "/Users/sabbirahamedsaown/opt/anaconda3/lib/python3.9/site-packages/seaborn/_decorators.py:36: FutureWarning: Pass the following variables as keyword args: x, y. From version 0.12, the only valid positional argument will be `data`, and passing other arguments without an explicit keyword will result in an error or misinterpretation.\n",
      "  warnings.warn(\n"
     ]
    },
    {
     "data": {
      "text/plain": [
       "<AxesSubplot:xlabel='property price', ylabel='number of pupils per teacher'>"
      ]
     },
     "execution_count": 215,
     "metadata": {},
     "output_type": "execute_result"
    },
    {
     "data": {
      "image/png": "[encoded data removed]",
      "text/plain": [
       "<Figure size 432x288 with 1 Axes>"
      ]
     },
     "metadata": {
      "needs_background": "light"
     },
     "output_type": "display_data"
    }
   ],
   "source": [
    "sns.regplot(data.iloc[15:21]['property price'],data.iloc[15:21]['number of pupils per teacher'],color='Green')"
   ]
  },
  {
   "cell_type": "markdown",
   "id": "d6efa615",
   "metadata": {},
   "source": [
    " # property price distribution (Lexington):\n"
   ]
  },
  {
   "cell_type": "code",
   "execution_count": null,
   "id": "4d141572",
   "metadata": {},
   "outputs": [],
   "source": [
    "To find the probability property coefficient in lexington"
   ]
  },
  {
   "cell_type": "code",
   "execution_count": 230,
   "id": "c9485d76",
   "metadata": {},
   "outputs": [
    {
     "name": "stdout",
     "output_type": "stream",
     "text": [
      "68% of the prices fall within (29140.414393333336, 43726.25227333333)\n",
      "95% of the prices fall within (21847.495453333337, 43726.25227333333)\n",
      "99.7% of the prices fall within (14554.576513333337, 58312.09015333334)\n"
     ]
    }
   ],
   "source": [
    "mean=36433.333333333336\n",
    "std=7292.918940\n",
    "print('68% of the prices fall within',(mean-std,mean+std))\n",
    "print('95% of the prices fall within',(mean-2*std,mean+std))\n",
    "print('99.7% of the prices fall within',(mean-3*std,mean+3*std))\n"
   ]
  },
  {
   "cell_type": "code",
   "execution_count": 234,
   "id": "e93b3d7b",
   "metadata": {},
   "outputs": [
    {
     "data": {
      "text/plain": [
       "[<matplotlib.lines.Line2D at 0x7f7f8e13e2b0>]"
      ]
     },
     "execution_count": 234,
     "metadata": {},
     "output_type": "execute_result"
    },
    {
     "data": {
      "image/png": "[encoded data removed]",
      "text/plain": [
       "<Figure size 432x288 with 1 Axes>"
      ]
     },
     "metadata": {
      "needs_background": "light"
     },
     "output_type": "display_data"
    }
   ],
   "source": [
    "a=np.arange(-85000,85000,0.8)\n",
    "plt.plot(a,norm.pdf(a,7292.918940,36433.333333333336),color='green')"
   ]
  },
  {
   "cell_type": "code",
   "execution_count": 235,
   "id": "2bb9dde0",
   "metadata": {},
   "outputs": [
    {
     "data": {
      "text/plain": [
       "1.5412993979732597"
      ]
     },
     "execution_count": 235,
     "metadata": {},
     "output_type": "execute_result"
    }
   ],
   "source": [
    "skew(data.iloc[15:21]['property price'],bias=False)"
   ]
  },
  {
   "cell_type": "code",
   "execution_count": 236,
   "id": "182e129c",
   "metadata": {},
   "outputs": [
    {
     "data": {
      "text/plain": [
       "3.143962521401136"
      ]
     },
     "execution_count": 236,
     "metadata": {},
     "output_type": "execute_result"
    }
   ],
   "source": [
    "kurtosis(data.iloc[15:21]['property price'],fisher=False)"
   ]
  },
  {
   "cell_type": "markdown",
   "id": "fc87aaae",
   "metadata": {},
   "source": [
    "The gaussian curve gives us positive skewedness and positive kurtosis.\n",
    " \n",
    " A positive skewd refers to the price being more than median price. The mean and median will be greater than the mode. the distribution of price will be longer or fatter.\n",
    " \n",
    " And the positive kurtosis refers that there are property prices which are more than the mean price.So,There could be huge losses in this particular regard because of the properties being priced over the mean price"
   ]
  },
  {
   "cell_type": "markdown",
   "id": "1fb52ccd",
   "metadata": {},
   "source": [
    "## conclusion\n",
    "\n",
    "After inspecting and finding the correlation between property price and all other parameters in thr dataset we can see that property price in Lexington heavily depends on the number of rooms."
   ]
  },
  {
   "cell_type": "markdown",
   "id": "063c254d",
   "metadata": {},
   "source": [
    "# References used in the analysis\n",
    " \n",
    " \n",
    " * Alan S Morris ,Measurement and Instrumentation (Second Edition), 2016]\n",
    " \n",
    " * Changiz, T., Yousefy, A. and Fakhari, M., 2020. Research utilization process model: A cyclical, spiral, and developmental process to provide conclusive research knowledge in health professions education. Medical Journal of the Islamic Republic of Iran, 34, p.79.\n",
    " \n",
    " * [Engineering statistics handbook,https://www.itl.nist.gov/div898/handbook/eda/section3/eda35b.htm, 2020]\n",
    " \n",
    " \n",
    "\n",
    " * Groeneveld, R.A. and Meeden, G., 1984. Measuring skewness and kurtosis. Journal of the Royal Statistical Society: Series D (The Statistician), 33(4), pp.391-399.\n",
    " \n",
    " \n",
    " * Johnston, M.P., 2017. Secondary data analysis: A method of which the time has come. Qualitative and quantitative methods in libraries, 3(3), pp.619-626.\n",
    " \n",
    " \n",
    " * Neelankavil, J.P., 2015. Primary Data Collection: An Introduction to Conclusive Research. In International Business Research (pp. 146-163). Routledge.\n",
    " \n",
    " \n",
    " * Shi, L., Zhong, W. and Sai, D., 2005. Empirical Analysis on the Inequality and the Reason of China Residents’ Property Distribution. Economic Research Journal, 6(1), pp.4-15\n",
    " \n",
    " \n",
    " * (Statistics in a Nutshell, 2nd Edition by Sarah Boslaugh,November 2012)\n",
    " \n",
    " \n",
    " * Watson, R., 2015. Quantitative research. Nursing Standard (2014+), 29(31), p.44.\n",
    " \n",
    " \n",
    "\n",
    "\n"
   ]
  },
  {
   "cell_type": "markdown",
   "id": "c61b64e5",
   "metadata": {},
   "source": [
    "# Bibliography"
   ]
  },
  {
   "cell_type": "markdown",
   "id": "0afa4d5a",
   "metadata": {},
   "source": [
    "* Alan S MorrisMeasurement and Instrumentation (Second Edition), 2016]\n",
    " \n",
    " * Changiz, T., Yousefy, A. and Fakhari, M., 2020. Research utilization process model: A cyclical, spiral, and developmental process to provide conclusive research knowledge in health professions education. Medical Journal of the Islamic Republic of Iran, 34, p.79.\n",
    " \n",
    " \n",
    "* Castle, J.E., 2003. Maximizing research opportunities: Secondary data analysis. Journal of Neuroscience Nursing, 35(5), pp.287-291.\n",
    " \n",
    "\n",
    "* [Engineering statistics handbook,https://www.itl.nist.gov/div898/handbook/eda/section3/eda35b.htm, 2020]\n",
    " \n",
    " \n",
    "\n",
    "* Groeneveld, R.A. and Meeden, G., 1984. Measuring skewness and kurtosis. Journal of the Royal Statistical Society: Series D (The Statistician), 33(4), pp.391-399.\n",
    " \n",
    " \n",
    " * Johnston, M.P., 2017. Secondary data analysis: A method of which the time has come. Qualitative and quantitative methods in libraries, 3(3), pp.619-626.\n",
    " \n",
    " \n",
    " * Köpp, C., von Mettenheim, H.J. and Breitner, M.H., 2014. Decision analytics with heatmap visualization for multi-step ensemble data. Business & Information Systems Engineering, 6(3), pp.131-140.\n",
    " \n",
    " \n",
    " * Neelankavil, J.P., 2015. Primary Data Collection: An Introduction to Conclusive Research. In International Business Research (pp. 146-163). Routledge.\n",
    " \n",
    " \n",
    "* Shi, L., Zhong, W. and Sai, D., 2005. Empirical Analysis on the Inequality and the Reason of China Residents’ Property Distribution. Economic Research Journal, 6(1), pp.4-15\n",
    " \n",
    " \n",
    "* (Statistics in a Nutshell, 2nd Edition by Sarah Boslaugh,November 2012)\n",
    "\n",
    "\n",
    "* Singh, D. and Reddy, C.K., 2015. A survey on platforms for big data analytics. Journal of big data, 2(1), pp.1-20.\n",
    " \n",
    " \n",
    "* Watson, R., 2015. Quantitative research. Nursing Standard (2014+), 29(31), p.44.\n",
    "\n",
    "\n",
    "* Wan, X., Wang, W., Liu, J. and Tong, T., 2014. Estimating the sample mean and standard deviation from the sample size, median, range and/or interquartile range. BMC medical research methodology, 14(1), pp.1-13.\n",
    " "
   ]
  },
  {
   "cell_type": "code",
   "execution_count": null,
   "id": "b5d0fd6a",
   "metadata": {},
   "outputs": [],
   "source": []
  },
  {
   "cell_type": "code",
   "execution_count": null,
   "id": "70501e3c",
   "metadata": {},
   "outputs": [],
   "source": []
  }
 ],
 "metadata": {
  "kernelspec": {
   "display_name": "Python 3 (ipykernel)",
   "language": "python",
   "name": "python3"
  },
  "language_info": {
   "codemirror_mode": {
    "name": "ipython",
    "version": 3
   },
   "file_extension": ".py",
   "mimetype": "text/x-python",
   "name": "python",
   "nbconvert_exporter": "python",
   "pygments_lexer": "ipython3",
   "version": "3.9.7"
  }
 },
 "nbformat": 4,
 "nbformat_minor": 5
}
